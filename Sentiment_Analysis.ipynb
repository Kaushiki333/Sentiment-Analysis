{
  "nbformat": 4,
  "nbformat_minor": 0,
  "metadata": {
    "colab": {
      "name": "dmdwPROJECT.ipynb",
      "provenance": [],
      "collapsed_sections": []
    },
    "kernelspec": {
      "display_name": "Python 3",
      "name": "python3"
    },
    "language_info": {
      "name": "python"
    }
  },
  "cells": [
    {
      "cell_type": "markdown",
      "metadata": {
        "id": "o4i1xA4ZfE41"
      },
      "source": [
        "# **SENTIMENT ANALYSIS**"
      ]
    },
    {
      "cell_type": "markdown",
      "metadata": {
        "id": "hhw-rUax4y5P"
      },
      "source": [
        "### **IMPORT THE LIBRARIES**"
      ]
    },
    {
      "cell_type": "code",
      "metadata": {
        "id": "FRDk4H4CfDNu",
        "colab": {
          "base_uri": "https://localhost:8080/"
        },
        "outputId": "c9754876-30c7-4504-b05a-66fa02e62ba1"
      },
      "source": [
        "# import the basic libraries\n",
        "import pandas as pd\n",
        "import numpy as np\n",
        "import re\n",
        "import string\n",
        "import matplotlib.pyplot as plt\n",
        "import math\n",
        "from sklearn import datasets\n",
        "\n",
        "# import the Natural Language toolkit for preprocessing\n",
        "import nltk\n",
        "nltk.download('wordnet')\n",
        "nltk.download('punkt')\n",
        "nltk.download('stopwords')\n",
        "\n",
        "# import various methods and stopwords for text processing\n",
        "from nltk.corpus import stopwords\n",
        "from nltk.tokenize import word_tokenize\n",
        "from nltk.stem import PorterStemmer\n",
        "from nltk.stem import WordNetLemmatizer\n",
        "\n",
        "# BOW feature extraction\n",
        "from sklearn.feature_extraction.text import CountVectorizer\n",
        "\n",
        "# TF-IDF feature extraction\n",
        "from sklearn.feature_extraction.text import TfidfTransformer\n",
        "from sklearn.feature_extraction.text import TfidfVectorizer\n",
        "\n",
        "# to scale the data\n",
        "from sklearn.preprocessing import StandardScaler\n",
        "\n",
        "# Set the seed\n",
        "import random\n",
        "random.seed(123)\n",
        "\n",
        "# split the dataset\n",
        "from sklearn.model_selection import train_test_split\n",
        "\n",
        "# 1. Information Gain\n",
        "# 2. Gini Index\n",
        "from sklearn.tree import DecisionTreeClassifier\n",
        "from sklearn import tree\n",
        "\n",
        "# 3. Naive Bayes\n",
        "from sklearn.naive_bayes import GaussianNB\n",
        "\n",
        "# 4. KNN\n",
        "from sklearn.neighbors import KNeighborsClassifier\n",
        "from sklearn.model_selection import cross_val_score\n",
        "\n",
        "# 5. Random Forest\n",
        "from sklearn.ensemble import RandomForestClassifier\n",
        "\n",
        "# 6. Gradient Boost\n",
        "from sklearn.ensemble import GradientBoostingClassifier\n",
        "\n",
        "# for summary report\n",
        "from sklearn.metrics import plot_confusion_matrix\n",
        "from sklearn.metrics import accuracy_score\n",
        "from sklearn.metrics import precision_score\n",
        "from sklearn.metrics import recall_score\n",
        "from sklearn.metrics import f1_score\n",
        "from sklearn.metrics import classification_report\n",
        "\n",
        "# ignore warning message\n",
        "import warnings \n",
        "warnings.filterwarnings('ignore')"
      ],
      "execution_count": null,
      "outputs": [
        {
          "output_type": "stream",
          "text": [
            "[nltk_data] Downloading package wordnet to /root/nltk_data...\n",
            "[nltk_data]   Unzipping corpora/wordnet.zip.\n",
            "[nltk_data] Downloading package punkt to /root/nltk_data...\n",
            "[nltk_data]   Unzipping tokenizers/punkt.zip.\n",
            "[nltk_data] Downloading package stopwords to /root/nltk_data...\n",
            "[nltk_data]   Unzipping corpora/stopwords.zip.\n"
          ],
          "name": "stdout"
        }
      ]
    },
    {
      "cell_type": "markdown",
      "metadata": {
        "id": "VkXBCiBM5dSM"
      },
      "source": [
        "### **IMPORT THE DATASET**"
      ]
    },
    {
      "cell_type": "code",
      "metadata": {
        "id": "AEBpSBPsmE3Z"
      },
      "source": [
        "# Get the link for Dataset\n",
        "#\n",
        "DsLink = \"https://raw.githubusercontent.com/Dataminimgproject/dataminingassignment/main/smileannotationsfinal%20(1).csv\""
      ],
      "execution_count": null,
      "outputs": []
    },
    {
      "cell_type": "code",
      "metadata": {
        "id": "v3O3kuhsVta_"
      },
      "source": [
        "# Fields that are present in the dataset\n",
        "#\n",
        "fields = [\"Key\", \"Tweet\", \"Emotion\"]"
      ],
      "execution_count": null,
      "outputs": []
    },
    {
      "cell_type": "code",
      "metadata": {
        "id": "5xau9vm7mRBp"
      },
      "source": [
        "# Import the dataset \n",
        "#\n",
        "tweetdata = pd.read_csv(DsLink, names=fields)"
      ],
      "execution_count": null,
      "outputs": []
    },
    {
      "cell_type": "code",
      "metadata": {
        "colab": {
          "base_uri": "https://localhost:8080/",
          "height": 204
        },
        "id": "h1YCLcvIM5H_",
        "outputId": "c052aed7-43fb-4c55-9906-e6749de0624c"
      },
      "source": [
        "# Print the top 5 tuples of the dataset using the head() command\n",
        "#\n",
        "tweetdata.head()"
      ],
      "execution_count": null,
      "outputs": [
        {
          "output_type": "execute_result",
          "data": {
            "text/html": [
              "<div>\n",
              "<style scoped>\n",
              "    .dataframe tbody tr th:only-of-type {\n",
              "        vertical-align: middle;\n",
              "    }\n",
              "\n",
              "    .dataframe tbody tr th {\n",
              "        vertical-align: top;\n",
              "    }\n",
              "\n",
              "    .dataframe thead th {\n",
              "        text-align: right;\n",
              "    }\n",
              "</style>\n",
              "<table border=\"1\" class=\"dataframe\">\n",
              "  <thead>\n",
              "    <tr style=\"text-align: right;\">\n",
              "      <th></th>\n",
              "      <th>Key</th>\n",
              "      <th>Tweet</th>\n",
              "      <th>Emotion</th>\n",
              "    </tr>\n",
              "  </thead>\n",
              "  <tbody>\n",
              "    <tr>\n",
              "      <th>0</th>\n",
              "      <td>611857364396965889</td>\n",
              "      <td>@aandraous @britishmuseum @AndrewsAntonio Merc...</td>\n",
              "      <td>nocode</td>\n",
              "    </tr>\n",
              "    <tr>\n",
              "      <th>1</th>\n",
              "      <td>614484565059596288</td>\n",
              "      <td>Dorian Gray with Rainbow Scarf #LoveWins (from...</td>\n",
              "      <td>happy</td>\n",
              "    </tr>\n",
              "    <tr>\n",
              "      <th>2</th>\n",
              "      <td>614746522043973632</td>\n",
              "      <td>@SelectShowcase @Tate_StIves ... Replace with ...</td>\n",
              "      <td>happy</td>\n",
              "    </tr>\n",
              "    <tr>\n",
              "      <th>3</th>\n",
              "      <td>614877582664835073</td>\n",
              "      <td>@Sofabsports thank you for following me back. ...</td>\n",
              "      <td>happy</td>\n",
              "    </tr>\n",
              "    <tr>\n",
              "      <th>4</th>\n",
              "      <td>611932373039644672</td>\n",
              "      <td>@britishmuseum @TudorHistory What a beautiful ...</td>\n",
              "      <td>happy</td>\n",
              "    </tr>\n",
              "  </tbody>\n",
              "</table>\n",
              "</div>"
            ],
            "text/plain": [
              "                  Key  ... Emotion\n",
              "0  611857364396965889  ...  nocode\n",
              "1  614484565059596288  ...   happy\n",
              "2  614746522043973632  ...   happy\n",
              "3  614877582664835073  ...   happy\n",
              "4  611932373039644672  ...   happy\n",
              "\n",
              "[5 rows x 3 columns]"
            ]
          },
          "metadata": {
            "tags": []
          },
          "execution_count": 5
        }
      ]
    },
    {
      "cell_type": "code",
      "metadata": {
        "colab": {
          "base_uri": "https://localhost:8080/"
        },
        "id": "d7OsTqMLNC09",
        "outputId": "db2b71f8-f93e-457c-f614-369e24d3eef1"
      },
      "source": [
        "# Print the dimensions of the dataset\n",
        "#\n",
        "tweetdata.shape"
      ],
      "execution_count": null,
      "outputs": [
        {
          "output_type": "execute_result",
          "data": {
            "text/plain": [
              "(3085, 3)"
            ]
          },
          "metadata": {
            "tags": []
          },
          "execution_count": 6
        }
      ]
    },
    {
      "cell_type": "markdown",
      "metadata": {
        "id": "SuMpvMonGIKu"
      },
      "source": [
        "In the dataset, with each tweet there is certain emotion attribute attached along. This is the target variable whereas the tweet attribute is the independent variable for classification."
      ]
    },
    {
      "cell_type": "markdown",
      "metadata": {
        "id": "xHtuvBW1CHwO"
      },
      "source": [
        "### **DATASET VISUALISATION AND ANALYSIS**"
      ]
    },
    {
      "cell_type": "code",
      "metadata": {
        "colab": {
          "base_uri": "https://localhost:8080/",
          "height": 204
        },
        "id": "modwEqllmusb",
        "outputId": "d720739b-933f-44a0-8aa0-234070c61149"
      },
      "source": [
        "# Analyse and define the dataset\n",
        "# Key for all the tweets generated (Not relevant so deprecated)\n",
        "#\n",
        "# Remove the Key field\n",
        "tweetdata=tweetdata.iloc[:,1:3]\n",
        "tweetdata.head()"
      ],
      "execution_count": null,
      "outputs": [
        {
          "output_type": "execute_result",
          "data": {
            "text/html": [
              "<div>\n",
              "<style scoped>\n",
              "    .dataframe tbody tr th:only-of-type {\n",
              "        vertical-align: middle;\n",
              "    }\n",
              "\n",
              "    .dataframe tbody tr th {\n",
              "        vertical-align: top;\n",
              "    }\n",
              "\n",
              "    .dataframe thead th {\n",
              "        text-align: right;\n",
              "    }\n",
              "</style>\n",
              "<table border=\"1\" class=\"dataframe\">\n",
              "  <thead>\n",
              "    <tr style=\"text-align: right;\">\n",
              "      <th></th>\n",
              "      <th>Tweet</th>\n",
              "      <th>Emotion</th>\n",
              "    </tr>\n",
              "  </thead>\n",
              "  <tbody>\n",
              "    <tr>\n",
              "      <th>0</th>\n",
              "      <td>@aandraous @britishmuseum @AndrewsAntonio Merc...</td>\n",
              "      <td>nocode</td>\n",
              "    </tr>\n",
              "    <tr>\n",
              "      <th>1</th>\n",
              "      <td>Dorian Gray with Rainbow Scarf #LoveWins (from...</td>\n",
              "      <td>happy</td>\n",
              "    </tr>\n",
              "    <tr>\n",
              "      <th>2</th>\n",
              "      <td>@SelectShowcase @Tate_StIves ... Replace with ...</td>\n",
              "      <td>happy</td>\n",
              "    </tr>\n",
              "    <tr>\n",
              "      <th>3</th>\n",
              "      <td>@Sofabsports thank you for following me back. ...</td>\n",
              "      <td>happy</td>\n",
              "    </tr>\n",
              "    <tr>\n",
              "      <th>4</th>\n",
              "      <td>@britishmuseum @TudorHistory What a beautiful ...</td>\n",
              "      <td>happy</td>\n",
              "    </tr>\n",
              "  </tbody>\n",
              "</table>\n",
              "</div>"
            ],
            "text/plain": [
              "                                               Tweet Emotion\n",
              "0  @aandraous @britishmuseum @AndrewsAntonio Merc...  nocode\n",
              "1  Dorian Gray with Rainbow Scarf #LoveWins (from...   happy\n",
              "2  @SelectShowcase @Tate_StIves ... Replace with ...   happy\n",
              "3  @Sofabsports thank you for following me back. ...   happy\n",
              "4  @britishmuseum @TudorHistory What a beautiful ...   happy"
            ]
          },
          "metadata": {
            "tags": []
          },
          "execution_count": 7
        }
      ]
    },
    {
      "cell_type": "code",
      "metadata": {
        "colab": {
          "base_uri": "https://localhost:8080/"
        },
        "id": "RNc4HEymCfXB",
        "outputId": "c359c67b-26bf-4851-b0ca-fc40ba80e233"
      },
      "source": [
        "# Count the values under the Emotion Attribute\n",
        "#\n",
        "tweetdata['Emotion'].value_counts()"
      ],
      "execution_count": null,
      "outputs": [
        {
          "output_type": "execute_result",
          "data": {
            "text/plain": [
              "nocode               1572\n",
              "happy                1137\n",
              "not-relevant          214\n",
              "angry                  57\n",
              "surprise               35\n",
              "sad                    32\n",
              "happy|surprise         11\n",
              "happy|sad               9\n",
              "disgust|angry           7\n",
              "disgust                 6\n",
              "sad|disgust             2\n",
              "sad|angry               2\n",
              "sad|disgust|angry       1\n",
              "Name: Emotion, dtype: int64"
            ]
          },
          "metadata": {
            "tags": []
          },
          "execution_count": 8
        }
      ]
    },
    {
      "cell_type": "code",
      "metadata": {
        "colab": {
          "base_uri": "https://localhost:8080/",
          "height": 282
        },
        "id": "S8y5SZqZnkJ7",
        "outputId": "81689ea3-b9b7-47b3-e8ee-5c4b46a60040"
      },
      "source": [
        "# Above obtained count values can be better visualised as:\n",
        "#\n",
        "tweetdata['Emotion'].value_counts().plot(kind='barh',color=\"#843b62\")"
      ],
      "execution_count": null,
      "outputs": [
        {
          "output_type": "execute_result",
          "data": {
            "text/plain": [
              "<matplotlib.axes._subplots.AxesSubplot at 0x7f63d1a5d790>"
            ]
          },
          "metadata": {
            "tags": []
          },
          "execution_count": 9
        },
        {
          "output_type": "display_data",
          "data": {
            "image/png": "[encoded data removed]",
            "text/plain": [
              "<Figure size 432x288 with 1 Axes>"
            ]
          },
          "metadata": {
            "tags": [],
            "needs_background": "light"
          }
        }
      ]
    },
    {
      "cell_type": "code",
      "metadata": {
        "id": "-1wgZyEWnj0Y"
      },
      "source": [
        "# From the graph above, we can see that two values do not hold importance for Sentiment Analysis.\n",
        "# 1-> nocode\n",
        "# 2-> not-relevant\n",
        "# Hence, we remove the tuples containing \"nocode\" and \"not-relevant\" values for Emotion Attribute.\n",
        "#\n",
        "tweetdata.drop(tweetdata[tweetdata['Emotion'] == 'nocode'].index, inplace = True)\n",
        "tweetdata.drop(tweetdata[tweetdata['Emotion'] == 'not-relevant'].index, inplace = True)\n",
        "#\n",
        "# Next we convert the fields with more than one Emotion value to the first value (as instructed)\n",
        "#\n",
        "tweetdata = tweetdata.replace('sad|disgust','sad')\n",
        "tweetdata = tweetdata.replace('happy|surprise','happy')\n",
        "tweetdata = tweetdata.replace('happy|sad','happy')\n",
        "tweetdata = tweetdata.replace('sad|angry','sad')\n",
        "tweetdata = tweetdata.replace('disgust|angry','disgust')\n",
        "tweetdata = tweetdata.replace('sad|disgust','sad')\n",
        "tweetdata = tweetdata.replace('sad|disgust|angry','sad')"
      ],
      "execution_count": null,
      "outputs": []
    },
    {
      "cell_type": "code",
      "metadata": {
        "colab": {
          "base_uri": "https://localhost:8080/",
          "height": 204
        },
        "id": "IveLOyAlTpB8",
        "outputId": "2d659026-a826-4bb7-f7ab-34a673f5295c"
      },
      "source": [
        "tweetdata.head()"
      ],
      "execution_count": null,
      "outputs": [
        {
          "output_type": "execute_result",
          "data": {
            "text/html": [
              "<div>\n",
              "<style scoped>\n",
              "    .dataframe tbody tr th:only-of-type {\n",
              "        vertical-align: middle;\n",
              "    }\n",
              "\n",
              "    .dataframe tbody tr th {\n",
              "        vertical-align: top;\n",
              "    }\n",
              "\n",
              "    .dataframe thead th {\n",
              "        text-align: right;\n",
              "    }\n",
              "</style>\n",
              "<table border=\"1\" class=\"dataframe\">\n",
              "  <thead>\n",
              "    <tr style=\"text-align: right;\">\n",
              "      <th></th>\n",
              "      <th>Tweet</th>\n",
              "      <th>Emotion</th>\n",
              "    </tr>\n",
              "  </thead>\n",
              "  <tbody>\n",
              "    <tr>\n",
              "      <th>1</th>\n",
              "      <td>Dorian Gray with Rainbow Scarf #LoveWins (from...</td>\n",
              "      <td>happy</td>\n",
              "    </tr>\n",
              "    <tr>\n",
              "      <th>2</th>\n",
              "      <td>@SelectShowcase @Tate_StIves ... Replace with ...</td>\n",
              "      <td>happy</td>\n",
              "    </tr>\n",
              "    <tr>\n",
              "      <th>3</th>\n",
              "      <td>@Sofabsports thank you for following me back. ...</td>\n",
              "      <td>happy</td>\n",
              "    </tr>\n",
              "    <tr>\n",
              "      <th>4</th>\n",
              "      <td>@britishmuseum @TudorHistory What a beautiful ...</td>\n",
              "      <td>happy</td>\n",
              "    </tr>\n",
              "    <tr>\n",
              "      <th>5</th>\n",
              "      <td>@NationalGallery @ThePoldarkian I have always ...</td>\n",
              "      <td>happy</td>\n",
              "    </tr>\n",
              "  </tbody>\n",
              "</table>\n",
              "</div>"
            ],
            "text/plain": [
              "                                               Tweet Emotion\n",
              "1  Dorian Gray with Rainbow Scarf #LoveWins (from...   happy\n",
              "2  @SelectShowcase @Tate_StIves ... Replace with ...   happy\n",
              "3  @Sofabsports thank you for following me back. ...   happy\n",
              "4  @britishmuseum @TudorHistory What a beautiful ...   happy\n",
              "5  @NationalGallery @ThePoldarkian I have always ...   happy"
            ]
          },
          "metadata": {
            "tags": []
          },
          "execution_count": 11
        }
      ]
    },
    {
      "cell_type": "code",
      "metadata": {
        "colab": {
          "base_uri": "https://localhost:8080/"
        },
        "id": "yxE3qZrt3h6x",
        "outputId": "0d466bd5-aeaa-4d68-e834-fdbe7683703d"
      },
      "source": [
        "# Recheck the values for Emotion\n",
        "#\n",
        "tweetdata['Emotion'].value_counts()"
      ],
      "execution_count": null,
      "outputs": [
        {
          "output_type": "execute_result",
          "data": {
            "text/plain": [
              "happy       1157\n",
              "angry         57\n",
              "sad           37\n",
              "surprise      35\n",
              "disgust       13\n",
              "Name: Emotion, dtype: int64"
            ]
          },
          "metadata": {
            "tags": []
          },
          "execution_count": 12
        }
      ]
    },
    {
      "cell_type": "code",
      "metadata": {
        "colab": {
          "base_uri": "https://localhost:8080/",
          "height": 282
        },
        "id": "7JNwBDKJ1hL1",
        "outputId": "0b83d63f-bd67-476d-d5d0-f7f8c879d557"
      },
      "source": [
        "# Plot the graph to visualise the new distribution of values\n",
        "#\n",
        "tweetdata['Emotion'].value_counts().plot(kind='barh',color=\"#843b62\")"
      ],
      "execution_count": null,
      "outputs": [
        {
          "output_type": "execute_result",
          "data": {
            "text/plain": [
              "<matplotlib.axes._subplots.AxesSubplot at 0x7f63d196fdd0>"
            ]
          },
          "metadata": {
            "tags": []
          },
          "execution_count": 13
        },
        {
          "output_type": "display_data",
          "data": {
            "image/png": "[encoded data removed]",
            "text/plain": [
              "<Figure size 432x288 with 1 Axes>"
            ]
          },
          "metadata": {
            "tags": [],
            "needs_background": "light"
          }
        }
      ]
    },
    {
      "cell_type": "markdown",
      "metadata": {
        "id": "E2xgrlYsxT-s"
      },
      "source": [
        " ### **PREPROCESSING THE TWEET DATA**\n"
      ]
    },
    {
      "cell_type": "markdown",
      "metadata": {
        "id": "h2_ytfiPCXAP"
      },
      "source": [
        "The tweet data contains unstructured data with layman's language which needs to be converted to structured form for analysis. We can do that by converting text into numerical form and represent the occurance of each word in the form of a matrix. But before doing that, we need to remove the stopwords which are not of much relevance in the data."
      ]
    },
    {
      "cell_type": "code",
      "metadata": {
        "id": "4U2K2p1BnnIY"
      },
      "source": [
        "# Filter the texts from tweet attribute based on defined rules\n",
        "#\n",
        "# Create set of stopwords\n",
        "stop_words = set(stopwords.words('english'))\n",
        "\n",
        "# Define a function to preprocess the tweet texts\n",
        "def preprocess_tweet_text(Tweet):\n",
        "\n",
        "  # conversion to lowercase\n",
        "  Tweet = Tweet.lower()\n",
        "\n",
        "  # remove URL\n",
        "  Tweet = re.sub(r'\\d+', '', Tweet)\n",
        "  Tweet = re.sub(r\"http\\S+|https\\S+\", \" \", Tweet, flags = re.MULTILINE)\n",
        "\n",
        "  # remove punctuation\n",
        "  Tweet = Tweet.translate(str.maketrans(\" \", \" \", string.punctuation))\n",
        "\n",
        "  # remove user @ reference and #  \n",
        "  Tweet = re.sub('\\@\\w|\\#', \" \", Tweet)\n",
        "\n",
        "  # remove stopwords and words with length less than equal to 2\n",
        "  tweet_tokens = word_tokenize(Tweet)\n",
        "  filtered_words = [word for word in tweet_tokens if word not in stop_words and len(word) > 2]\n",
        "\n",
        "  # stemming\n",
        "  # ps = PortStemmer()\n",
        "  # stemmed_words = [ps.stem(w) for w in filtered_words]\n",
        "\n",
        "  # lemmatizing\n",
        "  lemmatizer = WordNetLemmatizer()\n",
        "  lemma_words = [lemmatizer.lemmatize(w, pos = 'a') for w in filtered_words]\n",
        "\n",
        "  return \" \".join(lemma_words)"
      ],
      "execution_count": null,
      "outputs": []
    },
    {
      "cell_type": "code",
      "metadata": {
        "colab": {
          "base_uri": "https://localhost:8080/",
          "height": 204
        },
        "id": "6IzqNS3gxBYL",
        "outputId": "0989c637-4498-4e8c-b9d1-3a385ea7e401"
      },
      "source": [
        "# Function call for preprocessing\n",
        "#\n",
        "tweetdata[\"Tweet\"] = tweetdata.Tweet.apply(preprocess_tweet_text)\n",
        "tweetdata.head()"
      ],
      "execution_count": null,
      "outputs": [
        {
          "output_type": "execute_result",
          "data": {
            "text/html": [
              "<div>\n",
              "<style scoped>\n",
              "    .dataframe tbody tr th:only-of-type {\n",
              "        vertical-align: middle;\n",
              "    }\n",
              "\n",
              "    .dataframe tbody tr th {\n",
              "        vertical-align: top;\n",
              "    }\n",
              "\n",
              "    .dataframe thead th {\n",
              "        text-align: right;\n",
              "    }\n",
              "</style>\n",
              "<table border=\"1\" class=\"dataframe\">\n",
              "  <thead>\n",
              "    <tr style=\"text-align: right;\">\n",
              "      <th></th>\n",
              "      <th>Tweet</th>\n",
              "      <th>Emotion</th>\n",
              "    </tr>\n",
              "  </thead>\n",
              "  <tbody>\n",
              "    <tr>\n",
              "      <th>1</th>\n",
              "      <td>dorian gray rainbow scarf lovewins britishmuseum</td>\n",
              "      <td>happy</td>\n",
              "    </tr>\n",
              "    <tr>\n",
              "      <th>2</th>\n",
              "      <td>selectshowcase tatestives replace wish artist ...</td>\n",
              "      <td>happy</td>\n",
              "    </tr>\n",
              "    <tr>\n",
              "      <th>3</th>\n",
              "      <td>sofabsports thank following back great hear di...</td>\n",
              "      <td>happy</td>\n",
              "    </tr>\n",
              "    <tr>\n",
              "      <th>4</th>\n",
              "      <td>britishmuseum tudorhistory beautiful jewel por...</td>\n",
              "      <td>happy</td>\n",
              "    </tr>\n",
              "    <tr>\n",
              "      <th>5</th>\n",
              "      <td>nationalgallery thepoldarkian always loved pai...</td>\n",
              "      <td>happy</td>\n",
              "    </tr>\n",
              "  </tbody>\n",
              "</table>\n",
              "</div>"
            ],
            "text/plain": [
              "                                               Tweet Emotion\n",
              "1   dorian gray rainbow scarf lovewins britishmuseum   happy\n",
              "2  selectshowcase tatestives replace wish artist ...   happy\n",
              "3  sofabsports thank following back great hear di...   happy\n",
              "4  britishmuseum tudorhistory beautiful jewel por...   happy\n",
              "5  nationalgallery thepoldarkian always loved pai...   happy"
            ]
          },
          "metadata": {
            "tags": []
          },
          "execution_count": 15
        }
      ]
    },
    {
      "cell_type": "code",
      "metadata": {
        "colab": {
          "base_uri": "https://localhost:8080/"
        },
        "id": "4UkzplKYTNkZ",
        "outputId": "19dde09c-b50a-47f4-8cbe-d131804fc89b"
      },
      "source": [
        "# list the preprocesssed tweets in documents\n",
        "documents = [tweetdata.Tweet]\n",
        "documents"
      ],
      "execution_count": null,
      "outputs": [
        {
          "output_type": "execute_result",
          "data": {
            "text/plain": [
              "[1        dorian gray rainbow scarf lovewins britishmuseum\n",
              " 2       selectshowcase tatestives replace wish artist ...\n",
              " 3       sofabsports thank following back great hear di...\n",
              " 4       britishmuseum tudorhistory beautiful jewel por...\n",
              " 5       nationalgallery thepoldarkian always loved pai...\n",
              "                               ...                        \n",
              " 3076    good see liveatlicas art collection leedsartga...\n",
              " 3077     rammuseum thanks well look next week friday done\n",
              " 3079    britishmuseum thanks ranking tripadvisor thing...\n",
              " 3080    alihaggett looking forward public engagement e...\n",
              " 3082                mrstuchbery britishmuseum mesmerising\n",
              " Name: Tweet, Length: 1299, dtype: object]"
            ]
          },
          "metadata": {
            "tags": []
          },
          "execution_count": 16
        }
      ]
    },
    {
      "cell_type": "markdown",
      "metadata": {
        "id": "4dq7xtMKTFVF"
      },
      "source": [
        "### **FEATURE EXTRACTION WITH BOW AND TF-IDF**"
      ]
    },
    {
      "cell_type": "code",
      "metadata": {
        "colab": {
          "base_uri": "https://localhost:8080/",
          "height": 35
        },
        "id": "tiVZA2a7Td7t",
        "outputId": "40e59b1b-faeb-4ebb-9a18-030dcdeae48f"
      },
      "source": [
        "# Create a list of words for each document (tuple)\n",
        "#\n",
        "col_tweet_list = tweetdata['Tweet'].tolist()\n",
        "col_tweet_list[0]"
      ],
      "execution_count": null,
      "outputs": [
        {
          "output_type": "execute_result",
          "data": {
            "application/vnd.google.colaboratory.intrinsic+json": {
              "type": "string"
            },
            "text/plain": [
              "'dorian gray rainbow scarf lovewins britishmuseum'"
            ]
          },
          "metadata": {
            "tags": []
          },
          "execution_count": 17
        }
      ]
    },
    {
      "cell_type": "markdown",
      "metadata": {
        "id": "fxrb5UggT809"
      },
      "source": [
        "#### Using BOW Feature Extraction\n"
      ]
    },
    {
      "cell_type": "code",
      "metadata": {
        "id": "USwSyJeQ08Ri",
        "colab": {
          "base_uri": "https://localhost:8080/"
        },
        "outputId": "d8dca7dc-990d-477d-a8c2-21253921ec1f"
      },
      "source": [
        "# Extract the features by BOW method\n",
        "# Use the CountVectorizer to get of count of each word\n",
        "#\n",
        "#count_vect = CountVectorizer(ngram_range=(1,2) ) \n",
        "count_vect = CountVectorizer() \n",
        "final_bow_count = count_vect.fit_transform(col_tweet_list)\n",
        "\n",
        "# Scaling\n",
        "final_bow_np = StandardScaler(with_mean=False).fit_transform(final_bow_count )\n",
        "final_bow_np"
      ],
      "execution_count": null,
      "outputs": [
        {
          "output_type": "execute_result",
          "data": {
            "text/plain": [
              "<1299x3926 sparse matrix of type '<class 'numpy.float64'>'\n",
              "\twith 11173 stored elements in Compressed Sparse Row format>"
            ]
          },
          "metadata": {
            "tags": []
          },
          "execution_count": 18
        }
      ]
    },
    {
      "cell_type": "markdown",
      "metadata": {
        "id": "Z55iNQQPZhXP"
      },
      "source": [
        "#### Using TFIDF Feature Extraction\n"
      ]
    },
    {
      "cell_type": "code",
      "metadata": {
        "id": "VAh5RHZ00xtZ",
        "colab": {
          "base_uri": "https://localhost:8080/"
        },
        "outputId": "c7894568-400c-47fa-b2c8-ca9a116e03bb"
      },
      "source": [
        "# Extract the features by TFIDF method\n",
        "# Use the TfidfVectorizer to generate the processed features\n",
        "#\n",
        "tf_idf_vec = TfidfVectorizer()#ngram_range=(2,2))\n",
        "final_tfidf_count = tf_idf_vec.fit_transform(col_tweet_list)\n",
        "\n",
        "# Scaling\n",
        "final_tfidf_np = StandardScaler(with_mean=False).fit_transform(final_tfidf_count)\n",
        "final_tfidf_np"
      ],
      "execution_count": null,
      "outputs": [
        {
          "output_type": "execute_result",
          "data": {
            "text/plain": [
              "<1299x3926 sparse matrix of type '<class 'numpy.float64'>'\n",
              "\twith 11173 stored elements in Compressed Sparse Row format>"
            ]
          },
          "metadata": {
            "tags": []
          },
          "execution_count": 19
        }
      ]
    },
    {
      "cell_type": "markdown",
      "metadata": {
        "id": "HGl4gagV3vj5"
      },
      "source": [
        "### **SPLIT THE DATA**"
      ]
    },
    {
      "cell_type": "markdown",
      "metadata": {
        "id": "sAr9kOHv76fj"
      },
      "source": [
        "For the sake of simplicity, 'X' and 'Y' have been taken as the variable names for independent and dependent attributes respectively, in BOW method while 'x' and 'y' in TFIDF method for same purpose."
      ]
    },
    {
      "cell_type": "markdown",
      "metadata": {
        "id": "7TZK-FgL4C9g"
      },
      "source": [
        "#### For Features Extracted using BOW"
      ]
    },
    {
      "cell_type": "code",
      "metadata": {
        "id": "qRNZLw1hUJH0"
      },
      "source": [
        "X = final_bow_np\n",
        "Y = tweetdata['Emotion']\n",
        "\n",
        "# Split the data into train and test data\n",
        "#\n",
        "X_train, X_test, Y_train, Y_test = train_test_split(X, Y, test_size = 0.3)"
      ],
      "execution_count": null,
      "outputs": []
    },
    {
      "cell_type": "code",
      "metadata": {
        "colab": {
          "base_uri": "https://localhost:8080/"
        },
        "id": "IR5yblJHOt0H",
        "outputId": "0937c50b-677d-4661-a34e-d5cc29af3ff3"
      },
      "source": [
        "X_train.shape"
      ],
      "execution_count": null,
      "outputs": [
        {
          "output_type": "execute_result",
          "data": {
            "text/plain": [
              "(909, 3926)"
            ]
          },
          "metadata": {
            "tags": []
          },
          "execution_count": 22
        }
      ]
    },
    {
      "cell_type": "code",
      "metadata": {
        "colab": {
          "base_uri": "https://localhost:8080/"
        },
        "id": "sj1sqXvhOwVs",
        "outputId": "ca39efca-a3be-4d5e-bafe-b7c8397aa224"
      },
      "source": [
        "Y_train.shape"
      ],
      "execution_count": null,
      "outputs": [
        {
          "output_type": "execute_result",
          "data": {
            "text/plain": [
              "(909,)"
            ]
          },
          "metadata": {
            "tags": []
          },
          "execution_count": 23
        }
      ]
    },
    {
      "cell_type": "code",
      "metadata": {
        "colab": {
          "base_uri": "https://localhost:8080/"
        },
        "id": "lbj0MJmgOy6T",
        "outputId": "8711df4b-8489-415b-9481-af24cdf4b66d"
      },
      "source": [
        "X_test.shape"
      ],
      "execution_count": null,
      "outputs": [
        {
          "output_type": "execute_result",
          "data": {
            "text/plain": [
              "(390, 3926)"
            ]
          },
          "metadata": {
            "tags": []
          },
          "execution_count": 24
        }
      ]
    },
    {
      "cell_type": "code",
      "metadata": {
        "colab": {
          "base_uri": "https://localhost:8080/"
        },
        "id": "rkmajGPJO1QD",
        "outputId": "65dbea05-172f-4e56-e02c-36f298eb491c"
      },
      "source": [
        "Y_test.shape"
      ],
      "execution_count": null,
      "outputs": [
        {
          "output_type": "execute_result",
          "data": {
            "text/plain": [
              "(390,)"
            ]
          },
          "metadata": {
            "tags": []
          },
          "execution_count": 25
        }
      ]
    },
    {
      "cell_type": "markdown",
      "metadata": {
        "id": "DiRIYq-g48BL"
      },
      "source": [
        "#### For Features Extracted using TFIDF"
      ]
    },
    {
      "cell_type": "code",
      "metadata": {
        "id": "M9efjTpEZXiy"
      },
      "source": [
        "x = final_tfidf_np\n",
        "y = tweetdata['Emotion']\n",
        "\n",
        "x_train, x_test, y_train, y_test = train_test_split(x, y, test_size = 0.3)"
      ],
      "execution_count": null,
      "outputs": []
    },
    {
      "cell_type": "code",
      "metadata": {
        "colab": {
          "base_uri": "https://localhost:8080/"
        },
        "id": "6Lh_wlt7_TM_",
        "outputId": "3c3852c0-02d9-4c77-ae62-39f955621f41"
      },
      "source": [
        "x_train.shape"
      ],
      "execution_count": null,
      "outputs": [
        {
          "output_type": "execute_result",
          "data": {
            "text/plain": [
              "(909, 3926)"
            ]
          },
          "metadata": {
            "tags": []
          },
          "execution_count": 27
        }
      ]
    },
    {
      "cell_type": "code",
      "metadata": {
        "colab": {
          "base_uri": "https://localhost:8080/"
        },
        "id": "PqupLv-l_TM_",
        "outputId": "9e686a5e-ee75-45b6-86aa-777dff6e6e70"
      },
      "source": [
        "y_train.shape"
      ],
      "execution_count": null,
      "outputs": [
        {
          "output_type": "execute_result",
          "data": {
            "text/plain": [
              "(909,)"
            ]
          },
          "metadata": {
            "tags": []
          },
          "execution_count": 28
        }
      ]
    },
    {
      "cell_type": "code",
      "metadata": {
        "colab": {
          "base_uri": "https://localhost:8080/"
        },
        "id": "dF_NVOLM_TNA",
        "outputId": "979f4e92-d368-496d-8826-083d8a1f800d"
      },
      "source": [
        "x_test.shape"
      ],
      "execution_count": null,
      "outputs": [
        {
          "output_type": "execute_result",
          "data": {
            "text/plain": [
              "(390, 3926)"
            ]
          },
          "metadata": {
            "tags": []
          },
          "execution_count": 29
        }
      ]
    },
    {
      "cell_type": "code",
      "metadata": {
        "colab": {
          "base_uri": "https://localhost:8080/"
        },
        "id": "qfG0-XjS_TNB",
        "outputId": "f678a493-7827-4f4b-c2e4-914f0aed1c9f"
      },
      "source": [
        "y_test.shape"
      ],
      "execution_count": null,
      "outputs": [
        {
          "output_type": "execute_result",
          "data": {
            "text/plain": [
              "(390,)"
            ]
          },
          "metadata": {
            "tags": []
          },
          "execution_count": 30
        }
      ]
    },
    {
      "cell_type": "markdown",
      "metadata": {
        "id": "HKuBHonS6sL8"
      },
      "source": [
        "## **CLASSIFIER 1 : INFORMATION GAIN**"
      ]
    },
    {
      "cell_type": "markdown",
      "metadata": {
        "id": "swLD1vXt6sjW"
      },
      "source": [
        "### **TRAINING THE MODEL w.r.t. BOW**"
      ]
    },
    {
      "cell_type": "code",
      "metadata": {
        "colab": {
          "base_uri": "https://localhost:8080/"
        },
        "id": "1uRmz31ahBWj",
        "outputId": "9c2a4910-b1bb-4b91-8469-17b1ffb797ea"
      },
      "source": [
        "IGClassifier=DecisionTreeClassifier(criterion='entropy',max_depth=5)\n",
        "IGClassifier.fit(X_train,Y_train)\n",
        "IGClassifier"
      ],
      "execution_count": null,
      "outputs": [
        {
          "output_type": "execute_result",
          "data": {
            "text/plain": [
              "DecisionTreeClassifier(ccp_alpha=0.0, class_weight=None, criterion='entropy',\n",
              "                       max_depth=5, max_features=None, max_leaf_nodes=None,\n",
              "                       min_impurity_decrease=0.0, min_impurity_split=None,\n",
              "                       min_samples_leaf=1, min_samples_split=2,\n",
              "                       min_weight_fraction_leaf=0.0, presort='deprecated',\n",
              "                       random_state=None, splitter='best')"
            ]
          },
          "metadata": {
            "tags": []
          },
          "execution_count": 32
        }
      ]
    },
    {
      "cell_type": "markdown",
      "metadata": {
        "id": "T1mF1K-r6-vj"
      },
      "source": [
        "### **TESTING THE MODEL w.r.t. BOW**"
      ]
    },
    {
      "cell_type": "code",
      "metadata": {
        "colab": {
          "base_uri": "https://localhost:8080/"
        },
        "id": "HQU4Du3ZbpkB",
        "outputId": "70f588fa-1871-438c-e8a3-6a62533cda4b"
      },
      "source": [
        "Y_predIG=IGClassifier.predict(X_test)\n",
        "#predictions\n",
        "len(Y_predIG)"
      ],
      "execution_count": null,
      "outputs": [
        {
          "output_type": "execute_result",
          "data": {
            "text/plain": [
              "390"
            ]
          },
          "metadata": {
            "tags": []
          },
          "execution_count": 33
        }
      ]
    },
    {
      "cell_type": "code",
      "metadata": {
        "colab": {
          "base_uri": "https://localhost:8080/",
          "height": 204
        },
        "id": "G06-8p6cbpkC",
        "outputId": "80221947-08fd-4a2c-a9b5-7e656c719405"
      },
      "source": [
        "predIG = pd.DataFrame({'Actual' : Y_test.values.ravel(), 'Predicted' : Y_predIG})\n",
        "predIG.head()"
      ],
      "execution_count": null,
      "outputs": [
        {
          "output_type": "execute_result",
          "data": {
            "text/html": [
              "<div>\n",
              "<style scoped>\n",
              "    .dataframe tbody tr th:only-of-type {\n",
              "        vertical-align: middle;\n",
              "    }\n",
              "\n",
              "    .dataframe tbody tr th {\n",
              "        vertical-align: top;\n",
              "    }\n",
              "\n",
              "    .dataframe thead th {\n",
              "        text-align: right;\n",
              "    }\n",
              "</style>\n",
              "<table border=\"1\" class=\"dataframe\">\n",
              "  <thead>\n",
              "    <tr style=\"text-align: right;\">\n",
              "      <th></th>\n",
              "      <th>Actual</th>\n",
              "      <th>Predicted</th>\n",
              "    </tr>\n",
              "  </thead>\n",
              "  <tbody>\n",
              "    <tr>\n",
              "      <th>0</th>\n",
              "      <td>happy</td>\n",
              "      <td>happy</td>\n",
              "    </tr>\n",
              "    <tr>\n",
              "      <th>1</th>\n",
              "      <td>happy</td>\n",
              "      <td>happy</td>\n",
              "    </tr>\n",
              "    <tr>\n",
              "      <th>2</th>\n",
              "      <td>happy</td>\n",
              "      <td>happy</td>\n",
              "    </tr>\n",
              "    <tr>\n",
              "      <th>3</th>\n",
              "      <td>happy</td>\n",
              "      <td>happy</td>\n",
              "    </tr>\n",
              "    <tr>\n",
              "      <th>4</th>\n",
              "      <td>happy</td>\n",
              "      <td>happy</td>\n",
              "    </tr>\n",
              "  </tbody>\n",
              "</table>\n",
              "</div>"
            ],
            "text/plain": [
              "  Actual Predicted\n",
              "0  happy     happy\n",
              "1  happy     happy\n",
              "2  happy     happy\n",
              "3  happy     happy\n",
              "4  happy     happy"
            ]
          },
          "metadata": {
            "tags": []
          },
          "execution_count": 34
        }
      ]
    },
    {
      "cell_type": "markdown",
      "metadata": {
        "id": "fhvHycrtbpkC"
      },
      "source": [
        "### **ANALYSIS OF TEST RESULTS**"
      ]
    },
    {
      "cell_type": "code",
      "metadata": {
        "colab": {
          "base_uri": "https://localhost:8080/"
        },
        "id": "CVeNrUXjbpkC",
        "outputId": "5217e8e5-7107-4125-9882-67424e71de48"
      },
      "source": [
        "# count the number of mismatches\n",
        "count = 0\n",
        "for i in range(0, len(predIG)):\n",
        "    if Y_predIG[i] != Y_test.values.ravel()[i]:\n",
        "        count = count + 1\n",
        "print(\"Count of Wrong Prediction : \" ,count)"
      ],
      "execution_count": null,
      "outputs": [
        {
          "output_type": "stream",
          "text": [
            "Count of Wrong Prediction :  46\n"
          ],
          "name": "stdout"
        }
      ]
    },
    {
      "cell_type": "code",
      "metadata": {
        "colab": {
          "base_uri": "https://localhost:8080/",
          "height": 296
        },
        "id": "spFeUpEnbpkD",
        "outputId": "12292cbb-b668-46b4-c965-110d756ea5b5"
      },
      "source": [
        "# Confusion Matrix\n",
        "plot_confusion_matrix(IGClassifier, X_test, Y_test, cmap=plt.cm.Blues)"
      ],
      "execution_count": null,
      "outputs": [
        {
          "output_type": "execute_result",
          "data": {
            "text/plain": [
              "<sklearn.metrics._plot.confusion_matrix.ConfusionMatrixDisplay at 0x7f63d193da90>"
            ]
          },
          "metadata": {
            "tags": []
          },
          "execution_count": 36
        },
        {
          "output_type": "display_data",
          "data": {
            "image/png": "[encoded data removed]",
            "text/plain": [
              "<Figure size 432x288 with 2 Axes>"
            ]
          },
          "metadata": {
            "tags": [],
            "needs_background": "light"
          }
        }
      ]
    },
    {
      "cell_type": "code",
      "metadata": {
        "colab": {
          "base_uri": "https://localhost:8080/"
        },
        "id": "GuTlp5kLbpkD",
        "outputId": "02f62f99-460d-40c0-8fd8-071fc557a0e6"
      },
      "source": [
        "# Accuracy\n",
        "print(\"Accuracy : \", round(100 * accuracy_score(Y_test, Y_predIG), 3))\n",
        "#\n",
        "# Precision\n",
        "print(\"Precision : \", round(100 * precision_score(Y_test, Y_predIG, average='weighted'), 3))\n",
        "#\n",
        "# Recall\n",
        "print(\"Recall : \", round(100 * recall_score(Y_test, Y_predIG, average='weighted'), 3))\n",
        "#\n",
        "#F1 Score\n",
        "print(\"F1 Score : \", round(100 * f1_score(Y_test, Y_predIG, average='weighted'), 3))"
      ],
      "execution_count": null,
      "outputs": [
        {
          "output_type": "stream",
          "text": [
            "Accuracy :  88.205\n",
            "Precision :  81.012\n",
            "Recall :  88.205\n",
            "F1 Score :  84.35\n"
          ],
          "name": "stdout"
        }
      ]
    },
    {
      "cell_type": "code",
      "metadata": {
        "colab": {
          "base_uri": "https://localhost:8080/"
        },
        "id": "ugxrIa88bpkE",
        "outputId": "634ee34b-b97c-4d41-d5ab-ac9558d08ac3"
      },
      "source": [
        "# Summary\n",
        "print(classification_report(Y_test, Y_predIG))"
      ],
      "execution_count": null,
      "outputs": [
        {
          "output_type": "stream",
          "text": [
            "              precision    recall  f1-score   support\n",
            "\n",
            "       angry       0.64      0.47      0.55        19\n",
            "     disgust       0.00      0.00      0.00         7\n",
            "       happy       0.89      0.99      0.94       340\n",
            "         sad       0.00      0.00      0.00        11\n",
            "    surprise       0.00      0.00      0.00        13\n",
            "\n",
            "    accuracy                           0.88       390\n",
            "   macro avg       0.31      0.29      0.30       390\n",
            "weighted avg       0.81      0.88      0.84       390\n",
            "\n"
          ],
          "name": "stdout"
        }
      ]
    },
    {
      "cell_type": "markdown",
      "metadata": {
        "id": "W6DFXRZ_7GFi"
      },
      "source": [
        "### **TRAINING THE MODEL w.r.t. TFIDF**"
      ]
    },
    {
      "cell_type": "code",
      "metadata": {
        "colab": {
          "base_uri": "https://localhost:8080/"
        },
        "id": "R8G9N6EPhYSZ",
        "outputId": "441a91f4-7820-42d0-f3ae-0d736b92528d"
      },
      "source": [
        "IGClassifier2=DecisionTreeClassifier(criterion='entropy',max_depth=5)\n",
        "IGClassifier2.fit(x_train,y_train)\n",
        "IGClassifier2"
      ],
      "execution_count": null,
      "outputs": [
        {
          "output_type": "execute_result",
          "data": {
            "text/plain": [
              "DecisionTreeClassifier(ccp_alpha=0.0, class_weight=None, criterion='entropy',\n",
              "                       max_depth=5, max_features=None, max_leaf_nodes=None,\n",
              "                       min_impurity_decrease=0.0, min_impurity_split=None,\n",
              "                       min_samples_leaf=1, min_samples_split=2,\n",
              "                       min_weight_fraction_leaf=0.0, presort='deprecated',\n",
              "                       random_state=None, splitter='best')"
            ]
          },
          "metadata": {
            "tags": []
          },
          "execution_count": 39
        }
      ]
    },
    {
      "cell_type": "markdown",
      "metadata": {
        "id": "fImnsgew7N2y"
      },
      "source": [
        "### **TESTING THE MODEL w.r.t. TFIDF**"
      ]
    },
    {
      "cell_type": "code",
      "metadata": {
        "colab": {
          "base_uri": "https://localhost:8080/"
        },
        "id": "IIpLjRfibpkF",
        "outputId": "1b1da467-617c-4a57-87e6-15215fad3340"
      },
      "source": [
        "y_predIG2=IGClassifier.predict(x_test)\n",
        "#predictions\n",
        "len(y_predIG2)"
      ],
      "execution_count": null,
      "outputs": [
        {
          "output_type": "execute_result",
          "data": {
            "text/plain": [
              "390"
            ]
          },
          "metadata": {
            "tags": []
          },
          "execution_count": 40
        }
      ]
    },
    {
      "cell_type": "code",
      "metadata": {
        "colab": {
          "base_uri": "https://localhost:8080/",
          "height": 204
        },
        "id": "6RqztHHobpkF",
        "outputId": "412b6e97-82f5-4c99-f606-65320fa68124"
      },
      "source": [
        "predIG2 = pd.DataFrame({'Actual' : y_test.values.ravel(), 'Predicted' : y_predIG2})\n",
        "predIG2.head()"
      ],
      "execution_count": null,
      "outputs": [
        {
          "output_type": "execute_result",
          "data": {
            "text/html": [
              "<div>\n",
              "<style scoped>\n",
              "    .dataframe tbody tr th:only-of-type {\n",
              "        vertical-align: middle;\n",
              "    }\n",
              "\n",
              "    .dataframe tbody tr th {\n",
              "        vertical-align: top;\n",
              "    }\n",
              "\n",
              "    .dataframe thead th {\n",
              "        text-align: right;\n",
              "    }\n",
              "</style>\n",
              "<table border=\"1\" class=\"dataframe\">\n",
              "  <thead>\n",
              "    <tr style=\"text-align: right;\">\n",
              "      <th></th>\n",
              "      <th>Actual</th>\n",
              "      <th>Predicted</th>\n",
              "    </tr>\n",
              "  </thead>\n",
              "  <tbody>\n",
              "    <tr>\n",
              "      <th>0</th>\n",
              "      <td>happy</td>\n",
              "      <td>happy</td>\n",
              "    </tr>\n",
              "    <tr>\n",
              "      <th>1</th>\n",
              "      <td>surprise</td>\n",
              "      <td>happy</td>\n",
              "    </tr>\n",
              "    <tr>\n",
              "      <th>2</th>\n",
              "      <td>happy</td>\n",
              "      <td>happy</td>\n",
              "    </tr>\n",
              "    <tr>\n",
              "      <th>3</th>\n",
              "      <td>happy</td>\n",
              "      <td>happy</td>\n",
              "    </tr>\n",
              "    <tr>\n",
              "      <th>4</th>\n",
              "      <td>happy</td>\n",
              "      <td>happy</td>\n",
              "    </tr>\n",
              "  </tbody>\n",
              "</table>\n",
              "</div>"
            ],
            "text/plain": [
              "     Actual Predicted\n",
              "0     happy     happy\n",
              "1  surprise     happy\n",
              "2     happy     happy\n",
              "3     happy     happy\n",
              "4     happy     happy"
            ]
          },
          "metadata": {
            "tags": []
          },
          "execution_count": 41
        }
      ]
    },
    {
      "cell_type": "markdown",
      "metadata": {
        "id": "38SWbmRpbpkG"
      },
      "source": [
        "### **ANALYSIS OF TEST RESULTS**"
      ]
    },
    {
      "cell_type": "code",
      "metadata": {
        "colab": {
          "base_uri": "https://localhost:8080/"
        },
        "id": "uVHgytNEbpkG",
        "outputId": "4e02735b-ec3a-40a2-c9bf-51078fe78bbc"
      },
      "source": [
        "# count the number of mismatches\n",
        "count = 0\n",
        "for i in range(0, len(predIG2)):\n",
        "    if y_predIG2[i] != y_test.values.ravel()[i]:\n",
        "        count = count + 1\n",
        "print(\"Count of Wrong Prediction : \" ,count)"
      ],
      "execution_count": null,
      "outputs": [
        {
          "output_type": "stream",
          "text": [
            "Count of Wrong Prediction :  32\n"
          ],
          "name": "stdout"
        }
      ]
    },
    {
      "cell_type": "code",
      "metadata": {
        "colab": {
          "base_uri": "https://localhost:8080/",
          "height": 296
        },
        "id": "XdSQcHnXbpkH",
        "outputId": "1758dfee-0f20-40b6-ad70-2b28527ab6a1"
      },
      "source": [
        "# Confusion Matrix\n",
        "plot_confusion_matrix(IGClassifier2, x_test.todense(), y_test, cmap=plt.cm.Blues)"
      ],
      "execution_count": null,
      "outputs": [
        {
          "output_type": "execute_result",
          "data": {
            "text/plain": [
              "<sklearn.metrics._plot.confusion_matrix.ConfusionMatrixDisplay at 0x7f63cc9e62d0>"
            ]
          },
          "metadata": {
            "tags": []
          },
          "execution_count": 43
        },
        {
          "output_type": "display_data",
          "data": {
            "image/png": "[encoded data removed]",
            "text/plain": [
              "<Figure size 432x288 with 2 Axes>"
            ]
          },
          "metadata": {
            "tags": [],
            "needs_background": "light"
          }
        }
      ]
    },
    {
      "cell_type": "code",
      "metadata": {
        "colab": {
          "base_uri": "https://localhost:8080/"
        },
        "id": "mUJhSzaDbpkH",
        "outputId": "19b46c9b-a811-494c-b41e-30c0fd6fbaa5"
      },
      "source": [
        "# Accuracy\n",
        "print(\"Accuracy : \", round(100 * accuracy_score(y_test, y_predIG2), 3))\n",
        "#\n",
        "# Precision\n",
        "print(\"Precision : \", round(100 * precision_score(y_test, y_predIG2, average='weighted'), 3))\n",
        "#\n",
        "# Recall\n",
        "print(\"Recall : \", round(100 * recall_score(y_test, y_predIG2, average='weighted'), 3))\n",
        "#\n",
        "#F1 Score\n",
        "print(\"F1 Score : \", round(100 * f1_score(y_test, y_predIG2, average='weighted'), 3))"
      ],
      "execution_count": null,
      "outputs": [
        {
          "output_type": "stream",
          "text": [
            "Accuracy :  91.795\n",
            "Precision :  91.658\n",
            "Recall :  91.795\n",
            "F1 Score :  88.893\n"
          ],
          "name": "stdout"
        }
      ]
    },
    {
      "cell_type": "code",
      "metadata": {
        "colab": {
          "base_uri": "https://localhost:8080/"
        },
        "id": "KFmcrLLdbpkH",
        "outputId": "3b4b2c7f-b7ac-45fb-c668-aa9fb414d0f3"
      },
      "source": [
        "# Summary\n",
        "print(classification_report(y_test, y_predIG2))"
      ],
      "execution_count": null,
      "outputs": [
        {
          "output_type": "stream",
          "text": [
            "              precision    recall  f1-score   support\n",
            "\n",
            "       angry       1.00      0.77      0.87        13\n",
            "     disgust       0.00      0.00      0.00         4\n",
            "       happy       0.92      1.00      0.96       347\n",
            "         sad       1.00      0.08      0.14        13\n",
            "    surprise       1.00      0.08      0.14        13\n",
            "\n",
            "    accuracy                           0.92       390\n",
            "   macro avg       0.78      0.38      0.42       390\n",
            "weighted avg       0.92      0.92      0.89       390\n",
            "\n"
          ],
          "name": "stdout"
        }
      ]
    },
    {
      "cell_type": "markdown",
      "metadata": {
        "id": "_QILklZU7TJK"
      },
      "source": [
        "## **CLASSIFIER 2 : GINI INDEX**"
      ]
    },
    {
      "cell_type": "markdown",
      "metadata": {
        "id": "zRLJbPfJ7TJK"
      },
      "source": [
        "### **TRAINING THE MODEL w.r.t. BOW**"
      ]
    },
    {
      "cell_type": "code",
      "metadata": {
        "id": "6lgDBa0oZiAM"
      },
      "source": [
        "GIClassifier=DecisionTreeClassifier(criterion='gini',max_depth=5)"
      ],
      "execution_count": null,
      "outputs": []
    },
    {
      "cell_type": "code",
      "metadata": {
        "colab": {
          "base_uri": "https://localhost:8080/"
        },
        "id": "J-uYcbfiZm07",
        "outputId": "597f6e20-c92f-42a7-a2ee-52e0cdc6f54a"
      },
      "source": [
        "GIClassifier.fit(X_train,Y_train)\n",
        "GIClassifier"
      ],
      "execution_count": null,
      "outputs": [
        {
          "output_type": "execute_result",
          "data": {
            "text/plain": [
              "DecisionTreeClassifier(ccp_alpha=0.0, class_weight=None, criterion='gini',\n",
              "                       max_depth=5, max_features=None, max_leaf_nodes=None,\n",
              "                       min_impurity_decrease=0.0, min_impurity_split=None,\n",
              "                       min_samples_leaf=1, min_samples_split=2,\n",
              "                       min_weight_fraction_leaf=0.0, presort='deprecated',\n",
              "                       random_state=None, splitter='best')"
            ]
          },
          "metadata": {
            "tags": []
          },
          "execution_count": 47
        }
      ]
    },
    {
      "cell_type": "markdown",
      "metadata": {
        "id": "kpR3LT4_7TJL"
      },
      "source": [
        "### **TESTING THE MODEL w.r.t. BOW**"
      ]
    },
    {
      "cell_type": "code",
      "metadata": {
        "colab": {
          "base_uri": "https://localhost:8080/"
        },
        "id": "e-SGkyQcQlUS",
        "outputId": "03108b2e-2059-4668-e615-fe93c5842ea5"
      },
      "source": [
        "Y_predGI=GIClassifier.predict(X_test)\n",
        "#predictions\n",
        "len(Y_predGI)"
      ],
      "execution_count": null,
      "outputs": [
        {
          "output_type": "execute_result",
          "data": {
            "text/plain": [
              "390"
            ]
          },
          "metadata": {
            "tags": []
          },
          "execution_count": 48
        }
      ]
    },
    {
      "cell_type": "code",
      "metadata": {
        "colab": {
          "base_uri": "https://localhost:8080/",
          "height": 204
        },
        "id": "EGFhluv6SEkC",
        "outputId": "15dee6b8-4b8f-44ea-fe30-2bba10856645"
      },
      "source": [
        "predGI = pd.DataFrame({'Actual' : Y_test.values.ravel(), 'Predicted' : Y_predGI})\n",
        "predGI.head()"
      ],
      "execution_count": null,
      "outputs": [
        {
          "output_type": "execute_result",
          "data": {
            "text/html": [
              "<div>\n",
              "<style scoped>\n",
              "    .dataframe tbody tr th:only-of-type {\n",
              "        vertical-align: middle;\n",
              "    }\n",
              "\n",
              "    .dataframe tbody tr th {\n",
              "        vertical-align: top;\n",
              "    }\n",
              "\n",
              "    .dataframe thead th {\n",
              "        text-align: right;\n",
              "    }\n",
              "</style>\n",
              "<table border=\"1\" class=\"dataframe\">\n",
              "  <thead>\n",
              "    <tr style=\"text-align: right;\">\n",
              "      <th></th>\n",
              "      <th>Actual</th>\n",
              "      <th>Predicted</th>\n",
              "    </tr>\n",
              "  </thead>\n",
              "  <tbody>\n",
              "    <tr>\n",
              "      <th>0</th>\n",
              "      <td>happy</td>\n",
              "      <td>happy</td>\n",
              "    </tr>\n",
              "    <tr>\n",
              "      <th>1</th>\n",
              "      <td>happy</td>\n",
              "      <td>happy</td>\n",
              "    </tr>\n",
              "    <tr>\n",
              "      <th>2</th>\n",
              "      <td>happy</td>\n",
              "      <td>happy</td>\n",
              "    </tr>\n",
              "    <tr>\n",
              "      <th>3</th>\n",
              "      <td>happy</td>\n",
              "      <td>happy</td>\n",
              "    </tr>\n",
              "    <tr>\n",
              "      <th>4</th>\n",
              "      <td>happy</td>\n",
              "      <td>happy</td>\n",
              "    </tr>\n",
              "  </tbody>\n",
              "</table>\n",
              "</div>"
            ],
            "text/plain": [
              "  Actual Predicted\n",
              "0  happy     happy\n",
              "1  happy     happy\n",
              "2  happy     happy\n",
              "3  happy     happy\n",
              "4  happy     happy"
            ]
          },
          "metadata": {
            "tags": []
          },
          "execution_count": 49
        }
      ]
    },
    {
      "cell_type": "markdown",
      "metadata": {
        "id": "wiW_pUxUn4c9"
      },
      "source": [
        "### **ANALYSIS OF TEST RESULTS**"
      ]
    },
    {
      "cell_type": "code",
      "metadata": {
        "colab": {
          "base_uri": "https://localhost:8080/"
        },
        "id": "ktSc6IKxn4c-",
        "outputId": "bac0b47b-ff2c-4e82-e3cf-8bc2422b712c"
      },
      "source": [
        "# count the number of mismatches\n",
        "count = 0\n",
        "for i in range(0, len(predGI)):\n",
        "    if Y_predGI[i] != Y_test.values.ravel()[i]:\n",
        "        count = count + 1\n",
        "print(\"Count of Wrong Prediction : \" ,count)"
      ],
      "execution_count": null,
      "outputs": [
        {
          "output_type": "stream",
          "text": [
            "Count of Wrong Prediction :  44\n"
          ],
          "name": "stdout"
        }
      ]
    },
    {
      "cell_type": "code",
      "metadata": {
        "colab": {
          "base_uri": "https://localhost:8080/",
          "height": 296
        },
        "id": "htLGpULVS7h3",
        "outputId": "15bfecee-57f6-4eaf-ad82-2234516d97e7"
      },
      "source": [
        "# Confusion Matrix\n",
        "plot_confusion_matrix(GIClassifier, X_test, Y_test, cmap=plt.cm.Blues)"
      ],
      "execution_count": null,
      "outputs": [
        {
          "output_type": "execute_result",
          "data": {
            "text/plain": [
              "<sklearn.metrics._plot.confusion_matrix.ConfusionMatrixDisplay at 0x7f63cc911ed0>"
            ]
          },
          "metadata": {
            "tags": []
          },
          "execution_count": 51
        },
        {
          "output_type": "display_data",
          "data": {
            "image/png": "[encoded data removed]",
            "text/plain": [
              "<Figure size 432x288 with 2 Axes>"
            ]
          },
          "metadata": {
            "tags": [],
            "needs_background": "light"
          }
        }
      ]
    },
    {
      "cell_type": "code",
      "metadata": {
        "colab": {
          "base_uri": "https://localhost:8080/"
        },
        "id": "b72lfqOITAWe",
        "outputId": "8fde988a-c734-409d-d373-ab12a5eff9cc"
      },
      "source": [
        "# Accuracy\n",
        "print(\"Accuracy : \", round(100 * accuracy_score(Y_test, Y_predGI), 3))\n",
        "#\n",
        "# Precision\n",
        "print(\"Precision : \", round(100 * precision_score(Y_test, Y_predGI, average='weighted'), 3))\n",
        "#\n",
        "# Recall\n",
        "print(\"Recall : \", round(100 * recall_score(Y_test, Y_predGI, average='weighted'), 3))\n",
        "#\n",
        "#F1 Score\n",
        "print(\"F1 Score : \", round(100 * f1_score(Y_test, Y_predGI, average='weighted'), 3))"
      ],
      "execution_count": null,
      "outputs": [
        {
          "output_type": "stream",
          "text": [
            "Accuracy :  88.718\n",
            "Precision :  81.269\n",
            "Recall :  88.718\n",
            "F1 Score :  84.723\n"
          ],
          "name": "stdout"
        }
      ]
    },
    {
      "cell_type": "code",
      "metadata": {
        "colab": {
          "base_uri": "https://localhost:8080/"
        },
        "id": "URe77R1QTJRQ",
        "outputId": "8809c603-3c95-4f9a-f6ce-ae6a243d3d80"
      },
      "source": [
        "# Summary\n",
        "print(classification_report(Y_test, Y_predGI))"
      ],
      "execution_count": null,
      "outputs": [
        {
          "output_type": "stream",
          "text": [
            "              precision    recall  f1-score   support\n",
            "\n",
            "       angry       0.64      0.47      0.55        19\n",
            "     disgust       0.00      0.00      0.00         7\n",
            "       happy       0.90      0.99      0.94       340\n",
            "         sad       0.00      0.00      0.00        11\n",
            "    surprise       0.00      0.00      0.00        13\n",
            "\n",
            "    accuracy                           0.89       390\n",
            "   macro avg       0.31      0.29      0.30       390\n",
            "weighted avg       0.81      0.89      0.85       390\n",
            "\n"
          ],
          "name": "stdout"
        }
      ]
    },
    {
      "cell_type": "markdown",
      "metadata": {
        "id": "-DtWg2-_7TJL"
      },
      "source": [
        "### **TRAINING THE MODEL w.r.t. TFIDF**"
      ]
    },
    {
      "cell_type": "code",
      "metadata": {
        "id": "AmfvO1wQLh8i"
      },
      "source": [
        "GIClassifier2 = DecisionTreeClassifier(criterion='gini',max_depth=5)"
      ],
      "execution_count": null,
      "outputs": []
    },
    {
      "cell_type": "code",
      "metadata": {
        "colab": {
          "base_uri": "https://localhost:8080/"
        },
        "id": "o-g6KFYcLh8i",
        "outputId": "b981d129-8085-417f-f2f7-cf85fe629d38"
      },
      "source": [
        "GIClassifier2.fit(x_train,y_train)"
      ],
      "execution_count": null,
      "outputs": [
        {
          "output_type": "execute_result",
          "data": {
            "text/plain": [
              "DecisionTreeClassifier(ccp_alpha=0.0, class_weight=None, criterion='gini',\n",
              "                       max_depth=5, max_features=None, max_leaf_nodes=None,\n",
              "                       min_impurity_decrease=0.0, min_impurity_split=None,\n",
              "                       min_samples_leaf=1, min_samples_split=2,\n",
              "                       min_weight_fraction_leaf=0.0, presort='deprecated',\n",
              "                       random_state=None, splitter='best')"
            ]
          },
          "metadata": {
            "tags": []
          },
          "execution_count": 55
        }
      ]
    },
    {
      "cell_type": "markdown",
      "metadata": {
        "id": "HjRolZcv7TJL"
      },
      "source": [
        "### **TESTING THE MODEL w.r.t. TFIDF**"
      ]
    },
    {
      "cell_type": "code",
      "metadata": {
        "colab": {
          "base_uri": "https://localhost:8080/"
        },
        "id": "ZfQJCx_WLh8i",
        "outputId": "d87d54c9-7afd-4406-c936-e90c3f6c7b55"
      },
      "source": [
        "y_predGI2=GIClassifier.predict(x_test)\n",
        "#predictions\n",
        "len(y_predGI2)"
      ],
      "execution_count": null,
      "outputs": [
        {
          "output_type": "execute_result",
          "data": {
            "text/plain": [
              "390"
            ]
          },
          "metadata": {
            "tags": []
          },
          "execution_count": 56
        }
      ]
    },
    {
      "cell_type": "code",
      "metadata": {
        "colab": {
          "base_uri": "https://localhost:8080/",
          "height": 204
        },
        "id": "3C3pVFY2Lh8j",
        "outputId": "48523444-865b-4ca8-af60-682d26232726"
      },
      "source": [
        "predGI2 = pd.DataFrame({'Actual' : y_test.values.ravel(), 'Predicted' : y_predGI2})\n",
        "predGI2.head()"
      ],
      "execution_count": null,
      "outputs": [
        {
          "output_type": "execute_result",
          "data": {
            "text/html": [
              "<div>\n",
              "<style scoped>\n",
              "    .dataframe tbody tr th:only-of-type {\n",
              "        vertical-align: middle;\n",
              "    }\n",
              "\n",
              "    .dataframe tbody tr th {\n",
              "        vertical-align: top;\n",
              "    }\n",
              "\n",
              "    .dataframe thead th {\n",
              "        text-align: right;\n",
              "    }\n",
              "</style>\n",
              "<table border=\"1\" class=\"dataframe\">\n",
              "  <thead>\n",
              "    <tr style=\"text-align: right;\">\n",
              "      <th></th>\n",
              "      <th>Actual</th>\n",
              "      <th>Predicted</th>\n",
              "    </tr>\n",
              "  </thead>\n",
              "  <tbody>\n",
              "    <tr>\n",
              "      <th>0</th>\n",
              "      <td>happy</td>\n",
              "      <td>happy</td>\n",
              "    </tr>\n",
              "    <tr>\n",
              "      <th>1</th>\n",
              "      <td>surprise</td>\n",
              "      <td>happy</td>\n",
              "    </tr>\n",
              "    <tr>\n",
              "      <th>2</th>\n",
              "      <td>happy</td>\n",
              "      <td>happy</td>\n",
              "    </tr>\n",
              "    <tr>\n",
              "      <th>3</th>\n",
              "      <td>happy</td>\n",
              "      <td>happy</td>\n",
              "    </tr>\n",
              "    <tr>\n",
              "      <th>4</th>\n",
              "      <td>happy</td>\n",
              "      <td>happy</td>\n",
              "    </tr>\n",
              "  </tbody>\n",
              "</table>\n",
              "</div>"
            ],
            "text/plain": [
              "     Actual Predicted\n",
              "0     happy     happy\n",
              "1  surprise     happy\n",
              "2     happy     happy\n",
              "3     happy     happy\n",
              "4     happy     happy"
            ]
          },
          "metadata": {
            "tags": []
          },
          "execution_count": 57
        }
      ]
    },
    {
      "cell_type": "markdown",
      "metadata": {
        "id": "po7clDjTLh8j"
      },
      "source": [
        "### **ANALYSIS OF TEST RESULTS**"
      ]
    },
    {
      "cell_type": "code",
      "metadata": {
        "colab": {
          "base_uri": "https://localhost:8080/"
        },
        "id": "nLA7H1NaLh8j",
        "outputId": "b77c6929-9ca6-447e-e747-83e38e207742"
      },
      "source": [
        "# count the number of mismatches\n",
        "count = 0\n",
        "for i in range(0, len(predGI2)):\n",
        "    if y_predGI2[i] != y_test.values.ravel()[i]:\n",
        "        count = count + 1\n",
        "print(\"Count of Wrong Prediction : \" ,count)"
      ],
      "execution_count": null,
      "outputs": [
        {
          "output_type": "stream",
          "text": [
            "Count of Wrong Prediction :  33\n"
          ],
          "name": "stdout"
        }
      ]
    },
    {
      "cell_type": "code",
      "metadata": {
        "colab": {
          "base_uri": "https://localhost:8080/",
          "height": 296
        },
        "id": "KSuW__OxLh8k",
        "outputId": "fc787947-278c-400d-bfd0-5227e9969b24"
      },
      "source": [
        "# Confusion Matrix\n",
        "plot_confusion_matrix(GIClassifier2, x_test.todense(), y_test, cmap=plt.cm.Blues)"
      ],
      "execution_count": null,
      "outputs": [
        {
          "output_type": "execute_result",
          "data": {
            "text/plain": [
              "<sklearn.metrics._plot.confusion_matrix.ConfusionMatrixDisplay at 0x7f63cc7fbb50>"
            ]
          },
          "metadata": {
            "tags": []
          },
          "execution_count": 59
        },
        {
          "output_type": "display_data",
          "data": {
            "image/png": "[encoded data removed]",
            "text/plain": [
              "<Figure size 432x288 with 2 Axes>"
            ]
          },
          "metadata": {
            "tags": [],
            "needs_background": "light"
          }
        }
      ]
    },
    {
      "cell_type": "code",
      "metadata": {
        "colab": {
          "base_uri": "https://localhost:8080/"
        },
        "id": "YYwYlBGJLh8k",
        "outputId": "6a0549a9-e4c8-48fd-f566-e64e6e57dd96"
      },
      "source": [
        "# Accuracy\n",
        "print(\"Accuracy : \", round(100 * accuracy_score(y_test, y_predGI2), 3))\n",
        "#\n",
        "# Precision\n",
        "print(\"Precision : \", round(100 * precision_score(y_test, y_predGI2, average='weighted'), 3))\n",
        "#\n",
        "# Recall\n",
        "print(\"Recall : \", round(100 * recall_score(y_test, y_predGI2, average='weighted'), 3))\n",
        "#\n",
        "#F1 Score\n",
        "print(\"F1 Score : \", round(100 * f1_score(y_test, y_predGI2, average='weighted'), 3))"
      ],
      "execution_count": null,
      "outputs": [
        {
          "output_type": "stream",
          "text": [
            "Accuracy :  91.538\n",
            "Precision :  84.492\n",
            "Recall :  91.538\n",
            "F1 Score :  87.83\n"
          ],
          "name": "stdout"
        }
      ]
    },
    {
      "cell_type": "code",
      "metadata": {
        "colab": {
          "base_uri": "https://localhost:8080/"
        },
        "id": "w7umjbHLLh8k",
        "outputId": "878cc5d8-e18c-4de8-f0df-178d0fac57a8"
      },
      "source": [
        "# Summary\n",
        "print(classification_report(y_test, y_predGI2))"
      ],
      "execution_count": null,
      "outputs": [
        {
          "output_type": "stream",
          "text": [
            "              precision    recall  f1-score   support\n",
            "\n",
            "       angry       0.91      0.77      0.83        13\n",
            "     disgust       0.00      0.00      0.00         4\n",
            "       happy       0.92      1.00      0.96       347\n",
            "         sad       0.00      0.00      0.00        13\n",
            "    surprise       0.00      0.00      0.00        13\n",
            "\n",
            "    accuracy                           0.92       390\n",
            "   macro avg       0.36      0.35      0.36       390\n",
            "weighted avg       0.84      0.92      0.88       390\n",
            "\n"
          ],
          "name": "stdout"
        }
      ]
    },
    {
      "cell_type": "markdown",
      "metadata": {
        "id": "S-LeD4DqNqGk"
      },
      "source": [
        "## **CLASSIFIER 3 : NAIVE BAYES**"
      ]
    },
    {
      "cell_type": "markdown",
      "metadata": {
        "id": "2IOfYqcsNqG1"
      },
      "source": [
        "### **TRAINING THE MODEL w.r.t. BOW**"
      ]
    },
    {
      "cell_type": "code",
      "metadata": {
        "colab": {
          "base_uri": "https://localhost:8080/"
        },
        "id": "BUXV7PYAbIJp",
        "outputId": "5eb45201-ba7c-42dd-8321-4c1acfffdfc3"
      },
      "source": [
        "NBClassifier = GaussianNB()\n",
        "NBClassifier.fit(X_train.todense(),Y_train)\n",
        "NBClassifier"
      ],
      "execution_count": null,
      "outputs": [
        {
          "output_type": "execute_result",
          "data": {
            "text/plain": [
              "GaussianNB(priors=None, var_smoothing=1e-09)"
            ]
          },
          "metadata": {
            "tags": []
          },
          "execution_count": 62
        }
      ]
    },
    {
      "cell_type": "markdown",
      "metadata": {
        "id": "3CXyB1DhNqG2"
      },
      "source": [
        "### **TESTING THE MODEL w.r.t. BOW**"
      ]
    },
    {
      "cell_type": "code",
      "metadata": {
        "colab": {
          "base_uri": "https://localhost:8080/"
        },
        "id": "fGsjZEnLbPZx",
        "outputId": "c67c86f9-da2c-4ad9-d378-c5f79b828931"
      },
      "source": [
        "Y_predNB = NBClassifier.predict(X_test.todense()) # store the prediction data\n",
        "#y_pred\n",
        "len(Y_predNB)"
      ],
      "execution_count": null,
      "outputs": [
        {
          "output_type": "execute_result",
          "data": {
            "text/plain": [
              "390"
            ]
          },
          "metadata": {
            "tags": []
          },
          "execution_count": 63
        }
      ]
    },
    {
      "cell_type": "code",
      "metadata": {
        "colab": {
          "base_uri": "https://localhost:8080/",
          "height": 204
        },
        "id": "yopFzsm9bPd_",
        "outputId": "2d36c0bb-6f23-45c9-fb25-f304a27c9c35"
      },
      "source": [
        "predNB = pd.DataFrame({'Actual' : Y_test, 'Predicted' : Y_predNB})\n",
        "predNB.head()"
      ],
      "execution_count": null,
      "outputs": [
        {
          "output_type": "execute_result",
          "data": {
            "text/html": [
              "<div>\n",
              "<style scoped>\n",
              "    .dataframe tbody tr th:only-of-type {\n",
              "        vertical-align: middle;\n",
              "    }\n",
              "\n",
              "    .dataframe tbody tr th {\n",
              "        vertical-align: top;\n",
              "    }\n",
              "\n",
              "    .dataframe thead th {\n",
              "        text-align: right;\n",
              "    }\n",
              "</style>\n",
              "<table border=\"1\" class=\"dataframe\">\n",
              "  <thead>\n",
              "    <tr style=\"text-align: right;\">\n",
              "      <th></th>\n",
              "      <th>Actual</th>\n",
              "      <th>Predicted</th>\n",
              "    </tr>\n",
              "  </thead>\n",
              "  <tbody>\n",
              "    <tr>\n",
              "      <th>1417</th>\n",
              "      <td>happy</td>\n",
              "      <td>happy</td>\n",
              "    </tr>\n",
              "    <tr>\n",
              "      <th>606</th>\n",
              "      <td>happy</td>\n",
              "      <td>happy</td>\n",
              "    </tr>\n",
              "    <tr>\n",
              "      <th>1642</th>\n",
              "      <td>happy</td>\n",
              "      <td>disgust</td>\n",
              "    </tr>\n",
              "    <tr>\n",
              "      <th>153</th>\n",
              "      <td>happy</td>\n",
              "      <td>happy</td>\n",
              "    </tr>\n",
              "    <tr>\n",
              "      <th>2429</th>\n",
              "      <td>happy</td>\n",
              "      <td>happy</td>\n",
              "    </tr>\n",
              "  </tbody>\n",
              "</table>\n",
              "</div>"
            ],
            "text/plain": [
              "     Actual Predicted\n",
              "1417  happy     happy\n",
              "606   happy     happy\n",
              "1642  happy   disgust\n",
              "153   happy     happy\n",
              "2429  happy     happy"
            ]
          },
          "metadata": {
            "tags": []
          },
          "execution_count": 64
        }
      ]
    },
    {
      "cell_type": "markdown",
      "metadata": {
        "id": "DeXH2lGdbU_s"
      },
      "source": [
        "#### **ANALYSIS OF TEST RESULTS**"
      ]
    },
    {
      "cell_type": "code",
      "metadata": {
        "colab": {
          "base_uri": "https://localhost:8080/"
        },
        "id": "79I-kOF5bXY1",
        "outputId": "e2894bfe-5c22-41d8-c8a5-4f58fbb53228"
      },
      "source": [
        "# count the number of mismatches\n",
        "count = 0\n",
        "for i in range(0, len(predNB)):\n",
        "    if Y_predNB[i] != Y_test.values.ravel()[i]:\n",
        "        count = count + 1\n",
        "print(\"Count of Wrong Prediction : \" ,count)"
      ],
      "execution_count": null,
      "outputs": [
        {
          "output_type": "stream",
          "text": [
            "Count of Wrong Prediction :  77\n"
          ],
          "name": "stdout"
        }
      ]
    },
    {
      "cell_type": "code",
      "metadata": {
        "colab": {
          "base_uri": "https://localhost:8080/",
          "height": 296
        },
        "id": "70AwPyH3bXer",
        "outputId": "b07d3e63-7566-4ab2-c93a-2d70649e2252"
      },
      "source": [
        "# Confusion Matrix\n",
        "plot_confusion_matrix(NBClassifier, X_test.todense(), Y_test, cmap=plt.cm.Blues)"
      ],
      "execution_count": null,
      "outputs": [
        {
          "output_type": "execute_result",
          "data": {
            "text/plain": [
              "<sklearn.metrics._plot.confusion_matrix.ConfusionMatrixDisplay at 0x7f63cc9aa6d0>"
            ]
          },
          "metadata": {
            "tags": []
          },
          "execution_count": 66
        },
        {
          "output_type": "display_data",
          "data": {
            "image/png": "[encoded data removed]",
            "text/plain": [
              "<Figure size 432x288 with 2 Axes>"
            ]
          },
          "metadata": {
            "tags": [],
            "needs_background": "light"
          }
        }
      ]
    },
    {
      "cell_type": "code",
      "metadata": {
        "colab": {
          "base_uri": "https://localhost:8080/"
        },
        "id": "_IDa2gRDbXjc",
        "outputId": "0931158e-3b75-4a1b-cc71-5b34c186a18d"
      },
      "source": [
        "# Accuracy\n",
        "print(\"Accuracy : \", round(100 * accuracy_score(Y_test, Y_predNB), 3))\n",
        "#\n",
        "# Precision\n",
        "print(\"Precision : \", round(100 * precision_score(Y_test, Y_predNB, average='weighted'), 3))\n",
        "#\n",
        "# Recall\n",
        "print(\"Recall : \", round(100 * recall_score(Y_test, Y_predNB, average='weighted'), 3))\n",
        "#\n",
        "#F1 Score\n",
        "print(\"F1 Score : \", round(100 * f1_score(Y_test, Y_predNB, average='weighted'), 3))"
      ],
      "execution_count": null,
      "outputs": [
        {
          "output_type": "stream",
          "text": [
            "Accuracy :  80.256\n",
            "Precision :  79.531\n",
            "Recall :  80.256\n",
            "F1 Score :  79.79\n"
          ],
          "name": "stdout"
        }
      ]
    },
    {
      "cell_type": "code",
      "metadata": {
        "colab": {
          "base_uri": "https://localhost:8080/"
        },
        "id": "EqxdhGtnbXn4",
        "outputId": "883f2e7c-0cb0-4e66-a7e7-5a8adecd7f5d"
      },
      "source": [
        "# Summary\n",
        "print(classification_report(Y_test, Y_predNB))"
      ],
      "execution_count": null,
      "outputs": [
        {
          "output_type": "stream",
          "text": [
            "              precision    recall  f1-score   support\n",
            "\n",
            "       angry       0.27      0.16      0.20        19\n",
            "     disgust       0.07      0.14      0.09         7\n",
            "       happy       0.90      0.91      0.90       340\n",
            "         sad       0.00      0.00      0.00        11\n",
            "    surprise       0.00      0.00      0.00        13\n",
            "\n",
            "    accuracy                           0.80       390\n",
            "   macro avg       0.25      0.24      0.24       390\n",
            "weighted avg       0.80      0.80      0.80       390\n",
            "\n"
          ],
          "name": "stdout"
        }
      ]
    },
    {
      "cell_type": "markdown",
      "metadata": {
        "id": "Hlmbl83yNqG2"
      },
      "source": [
        "### **TRAINING THE MODEL w.r.t. TFIDF**"
      ]
    },
    {
      "cell_type": "code",
      "metadata": {
        "colab": {
          "base_uri": "https://localhost:8080/"
        },
        "id": "H8BgQ_pxbqpD",
        "outputId": "ac862946-a4f2-437f-c7b3-83931d96de53"
      },
      "source": [
        "NBClassifier2 = GaussianNB()\n",
        "NBClassifier2.fit(x_train.todense(),y_train)\n",
        "NBClassifier2"
      ],
      "execution_count": null,
      "outputs": [
        {
          "output_type": "execute_result",
          "data": {
            "text/plain": [
              "GaussianNB(priors=None, var_smoothing=1e-09)"
            ]
          },
          "metadata": {
            "tags": []
          },
          "execution_count": 69
        }
      ]
    },
    {
      "cell_type": "markdown",
      "metadata": {
        "id": "fiMH4QK1NqG2"
      },
      "source": [
        "### **TESTING THE MODEL w.r.t. TFIDF**"
      ]
    },
    {
      "cell_type": "code",
      "metadata": {
        "colab": {
          "base_uri": "https://localhost:8080/"
        },
        "id": "4aMhcerGby81",
        "outputId": "60eed211-5256-4717-d286-b2e9ee16c12b"
      },
      "source": [
        "y_predNB2 = NBClassifier.predict(x_test.todense()) # store the prediction data\n",
        "#y_predNB2\n",
        "len(y_predNB2)"
      ],
      "execution_count": null,
      "outputs": [
        {
          "output_type": "execute_result",
          "data": {
            "text/plain": [
              "390"
            ]
          },
          "metadata": {
            "tags": []
          },
          "execution_count": 70
        }
      ]
    },
    {
      "cell_type": "code",
      "metadata": {
        "colab": {
          "base_uri": "https://localhost:8080/",
          "height": 204
        },
        "id": "2xWKIRbBbzA5",
        "outputId": "9bdf4c4f-685d-4661-bd5f-3bccf994c6f1"
      },
      "source": [
        "predNB2 = pd.DataFrame({'Actual' : y_test, 'Predicted' : y_predNB2})\n",
        "predNB2.head()"
      ],
      "execution_count": null,
      "outputs": [
        {
          "output_type": "execute_result",
          "data": {
            "text/html": [
              "<div>\n",
              "<style scoped>\n",
              "    .dataframe tbody tr th:only-of-type {\n",
              "        vertical-align: middle;\n",
              "    }\n",
              "\n",
              "    .dataframe tbody tr th {\n",
              "        vertical-align: top;\n",
              "    }\n",
              "\n",
              "    .dataframe thead th {\n",
              "        text-align: right;\n",
              "    }\n",
              "</style>\n",
              "<table border=\"1\" class=\"dataframe\">\n",
              "  <thead>\n",
              "    <tr style=\"text-align: right;\">\n",
              "      <th></th>\n",
              "      <th>Actual</th>\n",
              "      <th>Predicted</th>\n",
              "    </tr>\n",
              "  </thead>\n",
              "  <tbody>\n",
              "    <tr>\n",
              "      <th>1165</th>\n",
              "      <td>happy</td>\n",
              "      <td>happy</td>\n",
              "    </tr>\n",
              "    <tr>\n",
              "      <th>1536</th>\n",
              "      <td>surprise</td>\n",
              "      <td>happy</td>\n",
              "    </tr>\n",
              "    <tr>\n",
              "      <th>991</th>\n",
              "      <td>happy</td>\n",
              "      <td>happy</td>\n",
              "    </tr>\n",
              "    <tr>\n",
              "      <th>1292</th>\n",
              "      <td>happy</td>\n",
              "      <td>happy</td>\n",
              "    </tr>\n",
              "    <tr>\n",
              "      <th>211</th>\n",
              "      <td>happy</td>\n",
              "      <td>happy</td>\n",
              "    </tr>\n",
              "  </tbody>\n",
              "</table>\n",
              "</div>"
            ],
            "text/plain": [
              "        Actual Predicted\n",
              "1165     happy     happy\n",
              "1536  surprise     happy\n",
              "991      happy     happy\n",
              "1292     happy     happy\n",
              "211      happy     happy"
            ]
          },
          "metadata": {
            "tags": []
          },
          "execution_count": 71
        }
      ]
    },
    {
      "cell_type": "markdown",
      "metadata": {
        "id": "B_zgp64Mb30a"
      },
      "source": [
        "#### **ANALYSIS OF TEST RESULTS**"
      ]
    },
    {
      "cell_type": "code",
      "metadata": {
        "colab": {
          "base_uri": "https://localhost:8080/"
        },
        "id": "oZA-UJmgb4Ro",
        "outputId": "e4b122a7-59bf-4c4f-c120-cd1e23b7f40c"
      },
      "source": [
        "# count the number of mismatches\n",
        "count = 0\n",
        "for i in range(0, len(predNB2)):\n",
        "    if y_predNB2[i] != y_test.values.ravel()[i]:\n",
        "        count = count + 1\n",
        "print(\"Count of Wrong Prediction : \" ,count)"
      ],
      "execution_count": null,
      "outputs": [
        {
          "output_type": "stream",
          "text": [
            "Count of Wrong Prediction :  21\n"
          ],
          "name": "stdout"
        }
      ]
    },
    {
      "cell_type": "code",
      "metadata": {
        "colab": {
          "base_uri": "https://localhost:8080/",
          "height": 296
        },
        "id": "hslmk9W9b4eV",
        "outputId": "b8022b47-fb87-46e0-8e51-c3bb39de178e"
      },
      "source": [
        "# Confusion Matrix\n",
        "plot_confusion_matrix(NBClassifier2, x_test.todense(), y_test, cmap=plt.cm.Blues)"
      ],
      "execution_count": null,
      "outputs": [
        {
          "output_type": "execute_result",
          "data": {
            "text/plain": [
              "<sklearn.metrics._plot.confusion_matrix.ConfusionMatrixDisplay at 0x7f63cc65de90>"
            ]
          },
          "metadata": {
            "tags": []
          },
          "execution_count": 73
        },
        {
          "output_type": "display_data",
          "data": {
            "image/png": "[encoded data removed]",
            "text/plain": [
              "<Figure size 432x288 with 2 Axes>"
            ]
          },
          "metadata": {
            "tags": [],
            "needs_background": "light"
          }
        }
      ]
    },
    {
      "cell_type": "code",
      "metadata": {
        "colab": {
          "base_uri": "https://localhost:8080/"
        },
        "id": "TOwhp78Db4n5",
        "outputId": "7dd5ffdf-a727-42d5-883a-563fe0b37eff"
      },
      "source": [
        "# Accuracy\n",
        "print(\"Accuracy : \", round(100 * accuracy_score(y_test, y_predNB2), 3))\n",
        "#\n",
        "# Precision\n",
        "print(\"Precision : \", round(100 * precision_score(y_test, y_predNB2, average='weighted'), 3))\n",
        "#\n",
        "# Recall\n",
        "print(\"Recall : \", round(100 * recall_score(y_test, y_predNB2, average='weighted'), 3))\n",
        "#\n",
        "#F1 Score\n",
        "print(\"F1 Score : \", round(100 * f1_score(y_test, y_predNB2, average='weighted'), 3))"
      ],
      "execution_count": null,
      "outputs": [
        {
          "output_type": "stream",
          "text": [
            "Accuracy :  94.615\n",
            "Precision :  95.493\n",
            "Recall :  94.615\n",
            "F1 Score :  94.843\n"
          ],
          "name": "stdout"
        }
      ]
    },
    {
      "cell_type": "code",
      "metadata": {
        "colab": {
          "base_uri": "https://localhost:8080/"
        },
        "id": "kTCLMlLfb4u8",
        "outputId": "3dc1d8a0-4eac-4c71-8584-bbfe4e235f17"
      },
      "source": [
        "# Summary\n",
        "print(classification_report(y_test, y_predNB2))"
      ],
      "execution_count": null,
      "outputs": [
        {
          "output_type": "stream",
          "text": [
            "              precision    recall  f1-score   support\n",
            "\n",
            "       angry       0.69      0.85      0.76        13\n",
            "     disgust       0.33      0.75      0.46         4\n",
            "       happy       0.98      0.97      0.98       347\n",
            "         sad       0.82      0.69      0.75        13\n",
            "    surprise       0.89      0.62      0.73        13\n",
            "\n",
            "    accuracy                           0.95       390\n",
            "   macro avg       0.74      0.78      0.73       390\n",
            "weighted avg       0.95      0.95      0.95       390\n",
            "\n"
          ],
          "name": "stdout"
        }
      ]
    },
    {
      "cell_type": "markdown",
      "metadata": {
        "id": "3cfJz66H7Spd"
      },
      "source": [
        "## **CLASSIFIER 4 : KNN (K-NEAREST NEIGHBOUR)**"
      ]
    },
    {
      "cell_type": "code",
      "metadata": {
        "id": "V_PQEdSDApMy"
      },
      "source": [
        "\n",
        "def find_optimal_k(Xtrain,Ytrain, myList):\n",
        "   \n",
        "    #creating odd list of K for KNN\n",
        "    #myList = list(range(0,40))\n",
        "    neighbors = list(filter(lambda x: x % 2 != 0, myList))\n",
        "\n",
        "    # empty list that will hold cv scores\n",
        "    cv_scores = []\n",
        "\n",
        "    # perform 10-fold cross validation\n",
        "    for k in neighbors:\n",
        "        knn = KNeighborsClassifier(n_neighbors=k)\n",
        "        scores = cross_val_score(knn, Xtrain, Ytrain, cv=10, scoring='accuracy')\n",
        "        cv_scores.append(scores.mean())\n",
        "\n",
        "    # changing to misclassification error\n",
        "    MSE = [1 - x for x in cv_scores]\n",
        "\n",
        "    # determining best k\n",
        "    optimal_k = neighbors[MSE.index(min(MSE))]\n",
        "    print('\\nThe optimal number of neighbors is %d.' % optimal_k)\n",
        "\n",
        "\n",
        "    plt.figure(figsize=(10,6))\n",
        "    plt.plot(list(filter(lambda x: x % 2 != 0, myList)),MSE,color='blue', linestyle='dashed', marker='o',\n",
        "             markerfacecolor='red', markersize=10)\n",
        "    plt.title('Error Rate vs. K Value')\n",
        "    plt.xlabel('K')\n",
        "    plt.ylabel('Error Rate')\n",
        "\n",
        "    print(\"the misclassification error for each k value is : \", np.round(MSE,3))\n",
        "    \n",
        "    return optimal_k"
      ],
      "execution_count": null,
      "outputs": []
    },
    {
      "cell_type": "markdown",
      "metadata": {
        "id": "_FqqQzRu7Spd"
      },
      "source": [
        "### **TRAINING THE MODEL w.r.t. BOW**\n",
        "\n",
        "\n"
      ]
    },
    {
      "cell_type": "code",
      "metadata": {
        "colab": {
          "base_uri": "https://localhost:8080/",
          "height": 540
        },
        "id": "xDj8g3Y4BjBV",
        "outputId": "aabe9cc7-ffa8-4347-da44-51886a50b6bb"
      },
      "source": [
        "myList = list(range(0,50))\n",
        "optimal_k = find_optimal_k(X_train ,Y_train,myList)\n",
        "KNNClassifier = KNeighborsClassifier(n_neighbors = optimal_k)\n",
        "KNNClassifier.fit(X_train, Y_train)\n",
        "KNNClassifier"
      ],
      "execution_count": null,
      "outputs": [
        {
          "output_type": "stream",
          "text": [
            "\n",
            "The optimal number of neighbors is 1.\n",
            "the misclassification error for each k value is :  [0.093 0.1   0.101 0.101 0.101 0.101 0.101 0.101 0.101 0.101 0.101 0.101\n",
            " 0.101 0.101 0.101 0.101 0.101 0.101 0.101 0.101 0.101 0.101 0.101 0.101\n",
            " 0.101]\n"
          ],
          "name": "stdout"
        },
        {
          "output_type": "execute_result",
          "data": {
            "text/plain": [
              "KNeighborsClassifier(algorithm='auto', leaf_size=30, metric='minkowski',\n",
              "                     metric_params=None, n_jobs=None, n_neighbors=1, p=2,\n",
              "                     weights='uniform')"
            ]
          },
          "metadata": {
            "tags": []
          },
          "execution_count": 77
        },
        {
          "output_type": "display_data",
          "data": {
            "image/png": "[encoded data removed]",
            "text/plain": [
              "<Figure size 720x432 with 1 Axes>"
            ]
          },
          "metadata": {
            "tags": [],
            "needs_background": "light"
          }
        }
      ]
    },
    {
      "cell_type": "markdown",
      "metadata": {
        "id": "iunUIs727Spe"
      },
      "source": [
        "### **TESTING THE MODEL w.r.t. BOW**"
      ]
    },
    {
      "cell_type": "code",
      "metadata": {
        "colab": {
          "base_uri": "https://localhost:8080/"
        },
        "id": "KlnuEOR5dcg7",
        "outputId": "a6e38881-3cd2-4f45-ab65-5dd823b65d6a"
      },
      "source": [
        "Y_predKNN = KNNClassifier.predict(X_test.todense()) # store the prediction data\n",
        "#Y_predKNN\n",
        "len(Y_predKNN)"
      ],
      "execution_count": null,
      "outputs": [
        {
          "output_type": "execute_result",
          "data": {
            "text/plain": [
              "390"
            ]
          },
          "metadata": {
            "tags": []
          },
          "execution_count": 78
        }
      ]
    },
    {
      "cell_type": "code",
      "metadata": {
        "colab": {
          "base_uri": "https://localhost:8080/",
          "height": 204
        },
        "id": "RUfVnudXdmCi",
        "outputId": "275067f3-ab45-4fb0-e5c6-1da7a9970c8e"
      },
      "source": [
        "predKNN = pd.DataFrame({'Actual' : Y_test, 'Predicted' : Y_predKNN})\n",
        "predKNN.head()"
      ],
      "execution_count": null,
      "outputs": [
        {
          "output_type": "execute_result",
          "data": {
            "text/html": [
              "<div>\n",
              "<style scoped>\n",
              "    .dataframe tbody tr th:only-of-type {\n",
              "        vertical-align: middle;\n",
              "    }\n",
              "\n",
              "    .dataframe tbody tr th {\n",
              "        vertical-align: top;\n",
              "    }\n",
              "\n",
              "    .dataframe thead th {\n",
              "        text-align: right;\n",
              "    }\n",
              "</style>\n",
              "<table border=\"1\" class=\"dataframe\">\n",
              "  <thead>\n",
              "    <tr style=\"text-align: right;\">\n",
              "      <th></th>\n",
              "      <th>Actual</th>\n",
              "      <th>Predicted</th>\n",
              "    </tr>\n",
              "  </thead>\n",
              "  <tbody>\n",
              "    <tr>\n",
              "      <th>1417</th>\n",
              "      <td>happy</td>\n",
              "      <td>happy</td>\n",
              "    </tr>\n",
              "    <tr>\n",
              "      <th>606</th>\n",
              "      <td>happy</td>\n",
              "      <td>happy</td>\n",
              "    </tr>\n",
              "    <tr>\n",
              "      <th>1642</th>\n",
              "      <td>happy</td>\n",
              "      <td>happy</td>\n",
              "    </tr>\n",
              "    <tr>\n",
              "      <th>153</th>\n",
              "      <td>happy</td>\n",
              "      <td>happy</td>\n",
              "    </tr>\n",
              "    <tr>\n",
              "      <th>2429</th>\n",
              "      <td>happy</td>\n",
              "      <td>happy</td>\n",
              "    </tr>\n",
              "  </tbody>\n",
              "</table>\n",
              "</div>"
            ],
            "text/plain": [
              "     Actual Predicted\n",
              "1417  happy     happy\n",
              "606   happy     happy\n",
              "1642  happy     happy\n",
              "153   happy     happy\n",
              "2429  happy     happy"
            ]
          },
          "metadata": {
            "tags": []
          },
          "execution_count": 79
        }
      ]
    },
    {
      "cell_type": "markdown",
      "metadata": {
        "id": "WCBOVQR2dzDp"
      },
      "source": [
        "#### **ANALYSIS OF TEST RESULTS**"
      ]
    },
    {
      "cell_type": "code",
      "metadata": {
        "colab": {
          "base_uri": "https://localhost:8080/"
        },
        "id": "aSr6IZ3kdz0X",
        "outputId": "01e1fe36-ba44-493c-9f4a-65869275e1e5"
      },
      "source": [
        "# count the number of mismatches\n",
        "count = 0\n",
        "for i in range(0, len(predKNN)):\n",
        "    if Y_predKNN[i] != Y_test.values.ravel()[i]:\n",
        "        count = count + 1\n",
        "print(\"Count of Wrong Prediction : \" ,count)"
      ],
      "execution_count": null,
      "outputs": [
        {
          "output_type": "stream",
          "text": [
            "Count of Wrong Prediction :  48\n"
          ],
          "name": "stdout"
        }
      ]
    },
    {
      "cell_type": "code",
      "metadata": {
        "colab": {
          "base_uri": "https://localhost:8080/",
          "height": 296
        },
        "id": "XOn444vgdz5Y",
        "outputId": "0f03ad04-2c53-46ab-caba-05cb299956a8"
      },
      "source": [
        "# Confusion Matrix\n",
        "plot_confusion_matrix(KNNClassifier, X_test.todense(), Y_test, cmap=plt.cm.Blues)"
      ],
      "execution_count": null,
      "outputs": [
        {
          "output_type": "execute_result",
          "data": {
            "text/plain": [
              "<sklearn.metrics._plot.confusion_matrix.ConfusionMatrixDisplay at 0x7f63cc7eb390>"
            ]
          },
          "metadata": {
            "tags": []
          },
          "execution_count": 81
        },
        {
          "output_type": "display_data",
          "data": {
            "image/png": "[encoded data removed]",
            "text/plain": [
              "<Figure size 432x288 with 2 Axes>"
            ]
          },
          "metadata": {
            "tags": [],
            "needs_background": "light"
          }
        }
      ]
    },
    {
      "cell_type": "code",
      "metadata": {
        "colab": {
          "base_uri": "https://localhost:8080/"
        },
        "id": "k93ow44Qdz-M",
        "outputId": "185396ca-ee62-4abe-e96f-fbbe314f9ef7"
      },
      "source": [
        "# Accuracy\n",
        "print(\"Accuracy : \", round(100 * accuracy_score(Y_test, Y_predKNN), 3))\n",
        "#\n",
        "# Precision\n",
        "print(\"Precision : \", round(100 * precision_score(Y_test, Y_predKNN, average='weighted'), 3))\n",
        "#\n",
        "# Recall\n",
        "print(\"Recall : \", round(100 * recall_score(Y_test, Y_predKNN, average='weighted'), 3))\n",
        "#\n",
        "#F1 Score\n",
        "print(\"F1 Score : \", round(100 * f1_score(Y_test, Y_predKNN, average='weighted'), 3))"
      ],
      "execution_count": null,
      "outputs": [
        {
          "output_type": "stream",
          "text": [
            "Accuracy :  87.692\n",
            "Precision :  80.038\n",
            "Recall :  87.692\n",
            "F1 Score :  82.541\n"
          ],
          "name": "stdout"
        }
      ]
    },
    {
      "cell_type": "code",
      "metadata": {
        "colab": {
          "base_uri": "https://localhost:8080/"
        },
        "id": "leMDC13Ed0HO",
        "outputId": "17620f93-2e91-4e3d-d80d-ed2b6fc7f91d"
      },
      "source": [
        "# Summary\n",
        "print(classification_report(Y_test, Y_predKNN))"
      ],
      "execution_count": null,
      "outputs": [
        {
          "output_type": "stream",
          "text": [
            "              precision    recall  f1-score   support\n",
            "\n",
            "       angry       0.67      0.11      0.18        19\n",
            "     disgust       0.00      0.00      0.00         7\n",
            "       happy       0.88      1.00      0.94       340\n",
            "         sad       0.00      0.00      0.00        11\n",
            "    surprise       0.00      0.00      0.00        13\n",
            "\n",
            "    accuracy                           0.88       390\n",
            "   macro avg       0.31      0.22      0.22       390\n",
            "weighted avg       0.80      0.88      0.83       390\n",
            "\n"
          ],
          "name": "stdout"
        }
      ]
    },
    {
      "cell_type": "markdown",
      "metadata": {
        "id": "9TFR6oEy7Spe"
      },
      "source": [
        "### **TRAINING THE MODEL w.r.t. TFIDF**"
      ]
    },
    {
      "cell_type": "code",
      "metadata": {
        "colab": {
          "base_uri": "https://localhost:8080/",
          "height": 540
        },
        "id": "RRJSi_zLXOtj",
        "outputId": "216b40a0-3dee-46cd-af47-7696004ba0cc"
      },
      "source": [
        "myList = list(range(0,50))\n",
        "optimal_k = find_optimal_k(x_train ,y_train,myList)\n",
        "KNNClassifier2 = KNeighborsClassifier(n_neighbors = optimal_k)\n",
        "KNNClassifier2.fit(x_train, y_train)\n",
        "KNNClassifier2"
      ],
      "execution_count": null,
      "outputs": [
        {
          "output_type": "stream",
          "text": [
            "\n",
            "The optimal number of neighbors is 1.\n",
            "the misclassification error for each k value is :  [0.101 0.102 0.106 0.109 0.109 0.109 0.109 0.109 0.109 0.109 0.109 0.109\n",
            " 0.109 0.109 0.109 0.109 0.109 0.109 0.109 0.109 0.109 0.109 0.109 0.109\n",
            " 0.109]\n"
          ],
          "name": "stdout"
        },
        {
          "output_type": "execute_result",
          "data": {
            "text/plain": [
              "KNeighborsClassifier(algorithm='auto', leaf_size=30, metric='minkowski',\n",
              "                     metric_params=None, n_jobs=None, n_neighbors=1, p=2,\n",
              "                     weights='uniform')"
            ]
          },
          "metadata": {
            "tags": []
          },
          "execution_count": 84
        },
        {
          "output_type": "display_data",
          "data": {
            "image/png": "[encoded data removed]",
            "text/plain": [
              "<Figure size 720x432 with 1 Axes>"
            ]
          },
          "metadata": {
            "tags": [],
            "needs_background": "light"
          }
        }
      ]
    },
    {
      "cell_type": "markdown",
      "metadata": {
        "id": "RzTKS4Nx7Spe"
      },
      "source": [
        "### **TESTING THE MODEL w.r.t. TFIDF**"
      ]
    },
    {
      "cell_type": "code",
      "metadata": {
        "colab": {
          "base_uri": "https://localhost:8080/"
        },
        "id": "0xwtTpdufwxC",
        "outputId": "04d0985e-6819-447b-fe38-090bbc31c4bc"
      },
      "source": [
        "y_predKNN = KNNClassifier2.predict(x_test.todense()) # store the prediction data\n",
        "#y_predKNN\n",
        "len(y_predKNN)"
      ],
      "execution_count": null,
      "outputs": [
        {
          "output_type": "execute_result",
          "data": {
            "text/plain": [
              "390"
            ]
          },
          "metadata": {
            "tags": []
          },
          "execution_count": 85
        }
      ]
    },
    {
      "cell_type": "code",
      "metadata": {
        "colab": {
          "base_uri": "https://localhost:8080/",
          "height": 204
        },
        "id": "qhvaT8_ofwxU",
        "outputId": "2f3096e7-8ab6-440f-8f04-3407db8fd490"
      },
      "source": [
        "predKNN = pd.DataFrame({'Actual' : y_test, 'Predicted' : y_predKNN})\n",
        "predKNN.head()"
      ],
      "execution_count": null,
      "outputs": [
        {
          "output_type": "execute_result",
          "data": {
            "text/html": [
              "<div>\n",
              "<style scoped>\n",
              "    .dataframe tbody tr th:only-of-type {\n",
              "        vertical-align: middle;\n",
              "    }\n",
              "\n",
              "    .dataframe tbody tr th {\n",
              "        vertical-align: top;\n",
              "    }\n",
              "\n",
              "    .dataframe thead th {\n",
              "        text-align: right;\n",
              "    }\n",
              "</style>\n",
              "<table border=\"1\" class=\"dataframe\">\n",
              "  <thead>\n",
              "    <tr style=\"text-align: right;\">\n",
              "      <th></th>\n",
              "      <th>Actual</th>\n",
              "      <th>Predicted</th>\n",
              "    </tr>\n",
              "  </thead>\n",
              "  <tbody>\n",
              "    <tr>\n",
              "      <th>1165</th>\n",
              "      <td>happy</td>\n",
              "      <td>happy</td>\n",
              "    </tr>\n",
              "    <tr>\n",
              "      <th>1536</th>\n",
              "      <td>surprise</td>\n",
              "      <td>happy</td>\n",
              "    </tr>\n",
              "    <tr>\n",
              "      <th>991</th>\n",
              "      <td>happy</td>\n",
              "      <td>happy</td>\n",
              "    </tr>\n",
              "    <tr>\n",
              "      <th>1292</th>\n",
              "      <td>happy</td>\n",
              "      <td>happy</td>\n",
              "    </tr>\n",
              "    <tr>\n",
              "      <th>211</th>\n",
              "      <td>happy</td>\n",
              "      <td>happy</td>\n",
              "    </tr>\n",
              "  </tbody>\n",
              "</table>\n",
              "</div>"
            ],
            "text/plain": [
              "        Actual Predicted\n",
              "1165     happy     happy\n",
              "1536  surprise     happy\n",
              "991      happy     happy\n",
              "1292     happy     happy\n",
              "211      happy     happy"
            ]
          },
          "metadata": {
            "tags": []
          },
          "execution_count": 86
        }
      ]
    },
    {
      "cell_type": "markdown",
      "metadata": {
        "id": "zWmvnvKLfwxV"
      },
      "source": [
        "#### **ANALYSIS OF TEST RESULTS**"
      ]
    },
    {
      "cell_type": "code",
      "metadata": {
        "colab": {
          "base_uri": "https://localhost:8080/"
        },
        "id": "aeFETQ9wfwxV",
        "outputId": "f3ddb15b-e5cf-46d4-cf42-99da50eaa575"
      },
      "source": [
        "# count the number of mismatches\n",
        "count = 0\n",
        "for i in range(0, len(predKNN)):\n",
        "    if y_predKNN[i] != y_test.values.ravel()[i]:\n",
        "        count = count + 1\n",
        "print(\"Count of Wrong Prediction : \" ,count)"
      ],
      "execution_count": null,
      "outputs": [
        {
          "output_type": "stream",
          "text": [
            "Count of Wrong Prediction :  42\n"
          ],
          "name": "stdout"
        }
      ]
    },
    {
      "cell_type": "code",
      "metadata": {
        "colab": {
          "base_uri": "https://localhost:8080/",
          "height": 296
        },
        "id": "8EzPLG2ofwxW",
        "outputId": "3ee0f9fa-04aa-4a19-dffa-ad2b10b5fff0"
      },
      "source": [
        "# Confusion Matrix\n",
        "plot_confusion_matrix(KNNClassifier2, x_test.todense(), y_test, cmap=plt.cm.Blues)"
      ],
      "execution_count": null,
      "outputs": [
        {
          "output_type": "execute_result",
          "data": {
            "text/plain": [
              "<sklearn.metrics._plot.confusion_matrix.ConfusionMatrixDisplay at 0x7f63cc38c7d0>"
            ]
          },
          "metadata": {
            "tags": []
          },
          "execution_count": 88
        },
        {
          "output_type": "display_data",
          "data": {
            "image/png": "[encoded data removed]",
            "text/plain": [
              "<Figure size 432x288 with 2 Axes>"
            ]
          },
          "metadata": {
            "tags": [],
            "needs_background": "light"
          }
        }
      ]
    },
    {
      "cell_type": "code",
      "metadata": {
        "colab": {
          "base_uri": "https://localhost:8080/"
        },
        "id": "1FMnyiCNfwxW",
        "outputId": "e446d370-2429-4242-e832-1033c838f2d7"
      },
      "source": [
        "# Accuracy\n",
        "print(\"Accuracy : \", round(100 * accuracy_score(y_test, y_predKNN), 3))\n",
        "#\n",
        "# Precision\n",
        "print(\"Precision : \", round(100 * precision_score(y_test, y_predKNN, average='weighted'), 3))\n",
        "#\n",
        "# Recall\n",
        "print(\"Recall : \", round(100 * recall_score(y_test, y_predKNN, average='weighted'), 3))\n",
        "#\n",
        "#F1 Score\n",
        "print(\"F1 Score : \", round(100 * f1_score(y_test, y_predKNN, average='weighted'), 3))"
      ],
      "execution_count": null,
      "outputs": [
        {
          "output_type": "stream",
          "text": [
            "Accuracy :  89.231\n",
            "Precision :  81.239\n",
            "Recall :  89.231\n",
            "F1 Score :  84.456\n"
          ],
          "name": "stdout"
        }
      ]
    },
    {
      "cell_type": "code",
      "metadata": {
        "colab": {
          "base_uri": "https://localhost:8080/"
        },
        "id": "QuLtcmMdfwxX",
        "outputId": "fbf3b3d9-1844-4a7b-fded-9e4a06c36e60"
      },
      "source": [
        "# Summary\n",
        "print(classification_report(y_test, y_predKNN))"
      ],
      "execution_count": null,
      "outputs": [
        {
          "output_type": "stream",
          "text": [
            "              precision    recall  f1-score   support\n",
            "\n",
            "       angry       0.50      0.08      0.13        13\n",
            "     disgust       0.00      0.00      0.00         4\n",
            "       happy       0.89      1.00      0.94       347\n",
            "         sad       0.00      0.00      0.00        13\n",
            "    surprise       0.00      0.00      0.00        13\n",
            "\n",
            "    accuracy                           0.89       390\n",
            "   macro avg       0.28      0.22      0.22       390\n",
            "weighted avg       0.81      0.89      0.84       390\n",
            "\n"
          ],
          "name": "stdout"
        }
      ]
    },
    {
      "cell_type": "markdown",
      "metadata": {
        "id": "6d2-kQXt6f67"
      },
      "source": [
        "## **CLASSIFIER 5 : RANDOM FOREST**"
      ]
    },
    {
      "cell_type": "markdown",
      "metadata": {
        "id": "_18P351Yrbau"
      },
      "source": [
        "### **TRAINING THE MODEL w.r.t. BOW**"
      ]
    },
    {
      "cell_type": "code",
      "metadata": {
        "colab": {
          "base_uri": "https://localhost:8080/"
        },
        "id": "-TIfDHzXrfrB",
        "outputId": "462267d3-bfd9-4c5d-9fb1-4e840b63db51"
      },
      "source": [
        "# Model Creation\n",
        "#\n",
        "RFClassifier = RandomForestClassifier(n_estimators = 3, random_state = 0)\n",
        "RFClassifier.fit(X_train, Y_train)\n",
        "RFClassifier"
      ],
      "execution_count": null,
      "outputs": [
        {
          "output_type": "execute_result",
          "data": {
            "text/plain": [
              "RandomForestClassifier(bootstrap=True, ccp_alpha=0.0, class_weight=None,\n",
              "                       criterion='gini', max_depth=None, max_features='auto',\n",
              "                       max_leaf_nodes=None, max_samples=None,\n",
              "                       min_impurity_decrease=0.0, min_impurity_split=None,\n",
              "                       min_samples_leaf=1, min_samples_split=2,\n",
              "                       min_weight_fraction_leaf=0.0, n_estimators=3,\n",
              "                       n_jobs=None, oob_score=False, random_state=0, verbose=0,\n",
              "                       warm_start=False)"
            ]
          },
          "metadata": {
            "tags": []
          },
          "execution_count": 91
        }
      ]
    },
    {
      "cell_type": "markdown",
      "metadata": {
        "id": "K8Atm-PVsGWE"
      },
      "source": [
        "### **TESTING THE MODEL w.r.t. BOW**"
      ]
    },
    {
      "cell_type": "code",
      "metadata": {
        "id": "csAJLse5sJwu"
      },
      "source": [
        "Y_predRF = RFClassifier.predict(X_test)"
      ],
      "execution_count": null,
      "outputs": []
    },
    {
      "cell_type": "code",
      "metadata": {
        "colab": {
          "base_uri": "https://localhost:8080/",
          "height": 204
        },
        "id": "z6HczNCvR0Cu",
        "outputId": "0cadf123-f2aa-43a9-a042-b580b877f461"
      },
      "source": [
        "predRF = pd.DataFrame({'Actual' : Y_test.values.ravel(), 'Predicted' : Y_predRF})\n",
        "predRF.head()"
      ],
      "execution_count": null,
      "outputs": [
        {
          "output_type": "execute_result",
          "data": {
            "text/html": [
              "<div>\n",
              "<style scoped>\n",
              "    .dataframe tbody tr th:only-of-type {\n",
              "        vertical-align: middle;\n",
              "    }\n",
              "\n",
              "    .dataframe tbody tr th {\n",
              "        vertical-align: top;\n",
              "    }\n",
              "\n",
              "    .dataframe thead th {\n",
              "        text-align: right;\n",
              "    }\n",
              "</style>\n",
              "<table border=\"1\" class=\"dataframe\">\n",
              "  <thead>\n",
              "    <tr style=\"text-align: right;\">\n",
              "      <th></th>\n",
              "      <th>Actual</th>\n",
              "      <th>Predicted</th>\n",
              "    </tr>\n",
              "  </thead>\n",
              "  <tbody>\n",
              "    <tr>\n",
              "      <th>0</th>\n",
              "      <td>happy</td>\n",
              "      <td>happy</td>\n",
              "    </tr>\n",
              "    <tr>\n",
              "      <th>1</th>\n",
              "      <td>happy</td>\n",
              "      <td>happy</td>\n",
              "    </tr>\n",
              "    <tr>\n",
              "      <th>2</th>\n",
              "      <td>happy</td>\n",
              "      <td>happy</td>\n",
              "    </tr>\n",
              "    <tr>\n",
              "      <th>3</th>\n",
              "      <td>happy</td>\n",
              "      <td>happy</td>\n",
              "    </tr>\n",
              "    <tr>\n",
              "      <th>4</th>\n",
              "      <td>happy</td>\n",
              "      <td>happy</td>\n",
              "    </tr>\n",
              "  </tbody>\n",
              "</table>\n",
              "</div>"
            ],
            "text/plain": [
              "  Actual Predicted\n",
              "0  happy     happy\n",
              "1  happy     happy\n",
              "2  happy     happy\n",
              "3  happy     happy\n",
              "4  happy     happy"
            ]
          },
          "metadata": {
            "tags": []
          },
          "execution_count": 93
        }
      ]
    },
    {
      "cell_type": "markdown",
      "metadata": {
        "id": "LuVQpalpSa5T"
      },
      "source": [
        "### **ANALYSIS OF TEST RESULTS**"
      ]
    },
    {
      "cell_type": "code",
      "metadata": {
        "colab": {
          "base_uri": "https://localhost:8080/"
        },
        "id": "eKGcjQTgSL_b",
        "outputId": "1a6937e2-87c9-4614-d4e6-21a39d81ebd3"
      },
      "source": [
        "# count the number of mismatches\n",
        "count = 0\n",
        "for i in range(0, len(predRF)):\n",
        "    if Y_predRF[i] != Y_test.values.ravel()[i]:\n",
        "        count = count + 1\n",
        "print(\"Count of Wrong Prediction : \" ,count)"
      ],
      "execution_count": null,
      "outputs": [
        {
          "output_type": "stream",
          "text": [
            "Count of Wrong Prediction :  50\n"
          ],
          "name": "stdout"
        }
      ]
    },
    {
      "cell_type": "code",
      "metadata": {
        "colab": {
          "base_uri": "https://localhost:8080/",
          "height": 296
        },
        "id": "x-OjFdqJSqfV",
        "outputId": "4f81580c-da39-4127-ff70-c1a4e9487c62"
      },
      "source": [
        "# Confusion Matrix\n",
        "plot_confusion_matrix(RFClassifier, X_test, Y_test, cmap=plt.cm.Blues)"
      ],
      "execution_count": null,
      "outputs": [
        {
          "output_type": "execute_result",
          "data": {
            "text/plain": [
              "<sklearn.metrics._plot.confusion_matrix.ConfusionMatrixDisplay at 0x7f63cc2d6310>"
            ]
          },
          "metadata": {
            "tags": []
          },
          "execution_count": 95
        },
        {
          "output_type": "display_data",
          "data": {
            "image/png": "[encoded data removed]",
            "text/plain": [
              "<Figure size 432x288 with 2 Axes>"
            ]
          },
          "metadata": {
            "tags": [],
            "needs_background": "light"
          }
        }
      ]
    },
    {
      "cell_type": "code",
      "metadata": {
        "colab": {
          "base_uri": "https://localhost:8080/"
        },
        "id": "E3WFmrtvS9D_",
        "outputId": "ad820693-a5b6-4c3a-cc2b-2e444355a2a0"
      },
      "source": [
        "# Accuracy\n",
        "print(\"Accuracy : \", round(100 * accuracy_score(Y_test, Y_predRF), 3))\n",
        "#\n",
        "# Precision\n",
        "print(\"Precision : \", round(100 * precision_score(Y_test, Y_predRF, average='weighted'), 3))\n",
        "#\n",
        "# Recall\n",
        "print(\"Recall : \", round(100 * recall_score(Y_test, Y_predRF, average='weighted'), 3))\n",
        "#\n",
        "#F1 Score\n",
        "print(\"F1 Score : \", round(100 * f1_score(Y_test, Y_predRF, average='weighted'), 3))"
      ],
      "execution_count": null,
      "outputs": [
        {
          "output_type": "stream",
          "text": [
            "Accuracy :  87.179\n",
            "Precision :  83.594\n",
            "Recall :  87.179\n",
            "F1 Score :  83.441\n"
          ],
          "name": "stdout"
        }
      ]
    },
    {
      "cell_type": "code",
      "metadata": {
        "colab": {
          "base_uri": "https://localhost:8080/"
        },
        "id": "9BqcDdkksX2k",
        "outputId": "327c84a6-81cb-4e0f-e772-64f6e3c3858c"
      },
      "source": [
        "# Summary\n",
        "print(classification_report(Y_test, Y_predRF))"
      ],
      "execution_count": null,
      "outputs": [
        {
          "output_type": "stream",
          "text": [
            "              precision    recall  f1-score   support\n",
            "\n",
            "       angry       0.43      0.16      0.23        19\n",
            "     disgust       0.00      0.00      0.00         7\n",
            "       happy       0.89      0.99      0.93       340\n",
            "         sad       0.25      0.09      0.13        11\n",
            "    surprise       1.00      0.08      0.14        13\n",
            "\n",
            "    accuracy                           0.87       390\n",
            "   macro avg       0.51      0.26      0.29       390\n",
            "weighted avg       0.84      0.87      0.83       390\n",
            "\n"
          ],
          "name": "stdout"
        }
      ]
    },
    {
      "cell_type": "markdown",
      "metadata": {
        "id": "yiiON8Pr52go"
      },
      "source": [
        "### **TRAINING THE MODEL w.r.t. TFIDF**"
      ]
    },
    {
      "cell_type": "code",
      "metadata": {
        "colab": {
          "base_uri": "https://localhost:8080/"
        },
        "id": "abRBeiVBUJW1",
        "outputId": "26aca5bd-25f1-4539-f771-cb0dce3bb87a"
      },
      "source": [
        "# Model Creation\n",
        "#\n",
        "RFClassifier2 = RandomForestClassifier(n_estimators = 3, random_state = 0)\n",
        "RFClassifier2.fit(x_train, y_train)\n",
        "RFClassifier2"
      ],
      "execution_count": null,
      "outputs": [
        {
          "output_type": "execute_result",
          "data": {
            "text/plain": [
              "RandomForestClassifier(bootstrap=True, ccp_alpha=0.0, class_weight=None,\n",
              "                       criterion='gini', max_depth=None, max_features='auto',\n",
              "                       max_leaf_nodes=None, max_samples=None,\n",
              "                       min_impurity_decrease=0.0, min_impurity_split=None,\n",
              "                       min_samples_leaf=1, min_samples_split=2,\n",
              "                       min_weight_fraction_leaf=0.0, n_estimators=3,\n",
              "                       n_jobs=None, oob_score=False, random_state=0, verbose=0,\n",
              "                       warm_start=False)"
            ]
          },
          "metadata": {
            "tags": []
          },
          "execution_count": 98
        }
      ]
    },
    {
      "cell_type": "markdown",
      "metadata": {
        "id": "rFgEYRfr53BZ"
      },
      "source": [
        "### **TESTING THE MODEL w.r.t. TFIDF**"
      ]
    },
    {
      "cell_type": "code",
      "metadata": {
        "id": "BMs8vINZUyjT"
      },
      "source": [
        "y_predRF = RFClassifier2.predict(x_test)"
      ],
      "execution_count": null,
      "outputs": []
    },
    {
      "cell_type": "code",
      "metadata": {
        "colab": {
          "base_uri": "https://localhost:8080/",
          "height": 204
        },
        "id": "hR7_gXG_UyjX",
        "outputId": "86154fde-8397-4d19-8537-d2f7d8040e69"
      },
      "source": [
        "predRF = pd.DataFrame({'Actual' : y_test.values.ravel(), 'Predicted' : y_predRF})\n",
        "predRF.head()"
      ],
      "execution_count": null,
      "outputs": [
        {
          "output_type": "execute_result",
          "data": {
            "text/html": [
              "<div>\n",
              "<style scoped>\n",
              "    .dataframe tbody tr th:only-of-type {\n",
              "        vertical-align: middle;\n",
              "    }\n",
              "\n",
              "    .dataframe tbody tr th {\n",
              "        vertical-align: top;\n",
              "    }\n",
              "\n",
              "    .dataframe thead th {\n",
              "        text-align: right;\n",
              "    }\n",
              "</style>\n",
              "<table border=\"1\" class=\"dataframe\">\n",
              "  <thead>\n",
              "    <tr style=\"text-align: right;\">\n",
              "      <th></th>\n",
              "      <th>Actual</th>\n",
              "      <th>Predicted</th>\n",
              "    </tr>\n",
              "  </thead>\n",
              "  <tbody>\n",
              "    <tr>\n",
              "      <th>0</th>\n",
              "      <td>happy</td>\n",
              "      <td>happy</td>\n",
              "    </tr>\n",
              "    <tr>\n",
              "      <th>1</th>\n",
              "      <td>surprise</td>\n",
              "      <td>happy</td>\n",
              "    </tr>\n",
              "    <tr>\n",
              "      <th>2</th>\n",
              "      <td>happy</td>\n",
              "      <td>happy</td>\n",
              "    </tr>\n",
              "    <tr>\n",
              "      <th>3</th>\n",
              "      <td>happy</td>\n",
              "      <td>happy</td>\n",
              "    </tr>\n",
              "    <tr>\n",
              "      <th>4</th>\n",
              "      <td>happy</td>\n",
              "      <td>happy</td>\n",
              "    </tr>\n",
              "  </tbody>\n",
              "</table>\n",
              "</div>"
            ],
            "text/plain": [
              "     Actual Predicted\n",
              "0     happy     happy\n",
              "1  surprise     happy\n",
              "2     happy     happy\n",
              "3     happy     happy\n",
              "4     happy     happy"
            ]
          },
          "metadata": {
            "tags": []
          },
          "execution_count": 100
        }
      ]
    },
    {
      "cell_type": "markdown",
      "metadata": {
        "id": "bCXkwweXUyjY"
      },
      "source": [
        "### **ANALYSIS OF TEST RESULTS**"
      ]
    },
    {
      "cell_type": "code",
      "metadata": {
        "colab": {
          "base_uri": "https://localhost:8080/"
        },
        "id": "49Gw7VkNUyjZ",
        "outputId": "3c459125-57ea-468a-bfcd-fed518a3c093"
      },
      "source": [
        "# count the number of mismatches\n",
        "count = 0\n",
        "for i in range(0, len(predRF)):\n",
        "    if y_predRF[i] != y_test.values.ravel()[i]:\n",
        "        count = count + 1\n",
        "print(\"Count of Wrong Prediction : \" ,count)"
      ],
      "execution_count": null,
      "outputs": [
        {
          "output_type": "stream",
          "text": [
            "Count of Wrong Prediction :  46\n"
          ],
          "name": "stdout"
        }
      ]
    },
    {
      "cell_type": "code",
      "metadata": {
        "colab": {
          "base_uri": "https://localhost:8080/",
          "height": 296
        },
        "id": "dfdJ_wtpUyja",
        "outputId": "b5a4bc88-6779-4906-ef85-c32a2a8fa752"
      },
      "source": [
        "# Confusion Matrix\n",
        "plot_confusion_matrix(RFClassifier2, x_test, y_test, cmap=plt.cm.Blues)"
      ],
      "execution_count": null,
      "outputs": [
        {
          "output_type": "execute_result",
          "data": {
            "text/plain": [
              "<sklearn.metrics._plot.confusion_matrix.ConfusionMatrixDisplay at 0x7f63cc1c8d10>"
            ]
          },
          "metadata": {
            "tags": []
          },
          "execution_count": 102
        },
        {
          "output_type": "display_data",
          "data": {
            "image/png": "[encoded data removed]",
            "text/plain": [
              "<Figure size 432x288 with 2 Axes>"
            ]
          },
          "metadata": {
            "tags": [],
            "needs_background": "light"
          }
        }
      ]
    },
    {
      "cell_type": "code",
      "metadata": {
        "colab": {
          "base_uri": "https://localhost:8080/"
        },
        "id": "IPNTLBdyUyjb",
        "outputId": "cd9ee4da-e647-4634-85d4-e3a78ddd3961"
      },
      "source": [
        "# Accuracy\n",
        "print(\"Accuracy : \", round(100 * accuracy_score(y_test, y_predRF), 3))\n",
        "#\n",
        "# Precision\n",
        "print(\"Precision : \", round(100 * precision_score(y_test, y_predRF, average='weighted'), 3))\n",
        "#\n",
        "# Recall\n",
        "print(\"Recall : \", round(100 * recall_score(y_test, y_predRF, average='weighted'), 3))\n",
        "#\n",
        "#F1 Score\n",
        "print(\"F1 Score : \", round(100 * f1_score(y_test, y_predRF, average='weighted'), 3))"
      ],
      "execution_count": null,
      "outputs": [
        {
          "output_type": "stream",
          "text": [
            "Accuracy :  88.205\n",
            "Precision :  83.346\n",
            "Recall :  88.205\n",
            "F1 Score :  85.405\n"
          ],
          "name": "stdout"
        }
      ]
    },
    {
      "cell_type": "code",
      "metadata": {
        "colab": {
          "base_uri": "https://localhost:8080/"
        },
        "id": "uBiKjrjHUyjc",
        "outputId": "a892dddc-20e0-49ba-c969-70076969cf87"
      },
      "source": [
        "# Summary\n",
        "print(classification_report(y_test, y_predRF))"
      ],
      "execution_count": null,
      "outputs": [
        {
          "output_type": "stream",
          "text": [
            "              precision    recall  f1-score   support\n",
            "\n",
            "       angry       0.67      0.31      0.42        13\n",
            "     disgust       0.00      0.00      0.00         4\n",
            "       happy       0.91      0.98      0.94       347\n",
            "         sad       0.14      0.08      0.10        13\n",
            "    surprise       0.00      0.00      0.00        13\n",
            "\n",
            "    accuracy                           0.88       390\n",
            "   macro avg       0.34      0.27      0.29       390\n",
            "weighted avg       0.83      0.88      0.85       390\n",
            "\n"
          ],
          "name": "stdout"
        }
      ]
    },
    {
      "cell_type": "markdown",
      "metadata": {
        "id": "S4OngdXc7Thq"
      },
      "source": [
        "## **CLASSIFIER 6 : GRADIENT BOOST**"
      ]
    },
    {
      "cell_type": "markdown",
      "metadata": {
        "id": "6S58w5Fl7Thr"
      },
      "source": [
        "### **TRAINING THE MODEL w.r.t. BOW**"
      ]
    },
    {
      "cell_type": "code",
      "metadata": {
        "id": "EvL1L9WCPToB"
      },
      "source": [
        "GBClassifier = GradientBoostingClassifier(max_depth=2,\n",
        "    n_estimators=3,\n",
        "    learning_rate=1.0\n",
        ")"
      ],
      "execution_count": null,
      "outputs": []
    },
    {
      "cell_type": "code",
      "metadata": {
        "colab": {
          "base_uri": "https://localhost:8080/"
        },
        "id": "sVDS-5K8PTuT",
        "outputId": "0f98366d-be79-4497-bbb6-9551966b1562"
      },
      "source": [
        "GBClassifier.fit(X_train, Y_train.values.ravel())\n",
        "GBClassifier"
      ],
      "execution_count": null,
      "outputs": [
        {
          "output_type": "execute_result",
          "data": {
            "text/plain": [
              "GradientBoostingClassifier(ccp_alpha=0.0, criterion='friedman_mse', init=None,\n",
              "                           learning_rate=1.0, loss='deviance', max_depth=2,\n",
              "                           max_features=None, max_leaf_nodes=None,\n",
              "                           min_impurity_decrease=0.0, min_impurity_split=None,\n",
              "                           min_samples_leaf=1, min_samples_split=2,\n",
              "                           min_weight_fraction_leaf=0.0, n_estimators=3,\n",
              "                           n_iter_no_change=None, presort='deprecated',\n",
              "                           random_state=None, subsample=1.0, tol=0.0001,\n",
              "                           validation_fraction=0.1, verbose=0,\n",
              "                           warm_start=False)"
            ]
          },
          "metadata": {
            "tags": []
          },
          "execution_count": 106
        }
      ]
    },
    {
      "cell_type": "markdown",
      "metadata": {
        "id": "eM1WwCSv7Thr"
      },
      "source": [
        "### **TESTING THE MODEL w.r.t. BOW**"
      ]
    },
    {
      "cell_type": "code",
      "metadata": {
        "colab": {
          "base_uri": "https://localhost:8080/"
        },
        "id": "NvGDoderPbXc",
        "outputId": "ed4336b7-4ac4-4adc-869f-f5a091cfe0d1"
      },
      "source": [
        "Y_predGB = GBClassifier.predict(X_test)\n",
        "len(Y_predGB)"
      ],
      "execution_count": null,
      "outputs": [
        {
          "output_type": "execute_result",
          "data": {
            "text/plain": [
              "390"
            ]
          },
          "metadata": {
            "tags": []
          },
          "execution_count": 107
        }
      ]
    },
    {
      "cell_type": "code",
      "metadata": {
        "colab": {
          "base_uri": "https://localhost:8080/",
          "height": 204
        },
        "id": "9JZ6you7PbgI",
        "outputId": "e696f4ca-45f2-4bd4-9ca9-85cd4d338508"
      },
      "source": [
        "predGB = pd.DataFrame({'Actual' : Y_test.values.ravel(), 'Predicted' : Y_predGB})\n",
        "predGB.head()"
      ],
      "execution_count": null,
      "outputs": [
        {
          "output_type": "execute_result",
          "data": {
            "text/html": [
              "<div>\n",
              "<style scoped>\n",
              "    .dataframe tbody tr th:only-of-type {\n",
              "        vertical-align: middle;\n",
              "    }\n",
              "\n",
              "    .dataframe tbody tr th {\n",
              "        vertical-align: top;\n",
              "    }\n",
              "\n",
              "    .dataframe thead th {\n",
              "        text-align: right;\n",
              "    }\n",
              "</style>\n",
              "<table border=\"1\" class=\"dataframe\">\n",
              "  <thead>\n",
              "    <tr style=\"text-align: right;\">\n",
              "      <th></th>\n",
              "      <th>Actual</th>\n",
              "      <th>Predicted</th>\n",
              "    </tr>\n",
              "  </thead>\n",
              "  <tbody>\n",
              "    <tr>\n",
              "      <th>0</th>\n",
              "      <td>happy</td>\n",
              "      <td>happy</td>\n",
              "    </tr>\n",
              "    <tr>\n",
              "      <th>1</th>\n",
              "      <td>happy</td>\n",
              "      <td>happy</td>\n",
              "    </tr>\n",
              "    <tr>\n",
              "      <th>2</th>\n",
              "      <td>happy</td>\n",
              "      <td>happy</td>\n",
              "    </tr>\n",
              "    <tr>\n",
              "      <th>3</th>\n",
              "      <td>happy</td>\n",
              "      <td>happy</td>\n",
              "    </tr>\n",
              "    <tr>\n",
              "      <th>4</th>\n",
              "      <td>happy</td>\n",
              "      <td>happy</td>\n",
              "    </tr>\n",
              "  </tbody>\n",
              "</table>\n",
              "</div>"
            ],
            "text/plain": [
              "  Actual Predicted\n",
              "0  happy     happy\n",
              "1  happy     happy\n",
              "2  happy     happy\n",
              "3  happy     happy\n",
              "4  happy     happy"
            ]
          },
          "metadata": {
            "tags": []
          },
          "execution_count": 108
        }
      ]
    },
    {
      "cell_type": "markdown",
      "metadata": {
        "id": "CCJfEeo7Pk8O"
      },
      "source": [
        "### **ANALYSIS OF TEST RESULTS**"
      ]
    },
    {
      "cell_type": "code",
      "metadata": {
        "colab": {
          "base_uri": "https://localhost:8080/"
        },
        "id": "Deahi9z1PlOH",
        "outputId": "9dd63983-6eeb-4fab-f658-e9201f52b929"
      },
      "source": [
        "# count the number of mismatches\n",
        "count = 0\n",
        "for i in range(0, len(predGB)):\n",
        "    if Y_predGB[i] != Y_test.values.ravel()[i]:\n",
        "        count = count + 1\n",
        "print(\"Count of Wrong Prediction : \" ,count)"
      ],
      "execution_count": null,
      "outputs": [
        {
          "output_type": "stream",
          "text": [
            "Count of Wrong Prediction :  53\n"
          ],
          "name": "stdout"
        }
      ]
    },
    {
      "cell_type": "code",
      "metadata": {
        "colab": {
          "base_uri": "https://localhost:8080/",
          "height": 296
        },
        "id": "8sVgqMRbPl7C",
        "outputId": "853f98fc-3d10-4847-aa09-198d697ed3cc"
      },
      "source": [
        "# Confusion Matrix\n",
        "plot_confusion_matrix(GBClassifier, X_test, Y_test, cmap=plt.cm.Blues)"
      ],
      "execution_count": null,
      "outputs": [
        {
          "output_type": "execute_result",
          "data": {
            "text/plain": [
              "<sklearn.metrics._plot.confusion_matrix.ConfusionMatrixDisplay at 0x7f63cc10ec90>"
            ]
          },
          "metadata": {
            "tags": []
          },
          "execution_count": 110
        },
        {
          "output_type": "display_data",
          "data": {
            "image/png": "[encoded data removed]",
            "text/plain": [
              "<Figure size 432x288 with 2 Axes>"
            ]
          },
          "metadata": {
            "tags": [],
            "needs_background": "light"
          }
        }
      ]
    },
    {
      "cell_type": "code",
      "metadata": {
        "colab": {
          "base_uri": "https://localhost:8080/"
        },
        "id": "O1hRpDIAP1tl",
        "outputId": "3a7013c0-739e-4886-9836-8afa7c5a2d43"
      },
      "source": [
        "# Accuracy\n",
        "print(\"Accuracy : \", round(100 * accuracy_score(Y_test, Y_predGB), 3))\n",
        "#\n",
        "# Precision\n",
        "print(\"Precision : \", round(100 * precision_score(Y_test, Y_predGB, average='weighted'), 3))\n",
        "#\n",
        "# Recall\n",
        "print(\"Recall : \", round(100 * recall_score(Y_test, Y_predGB, average='weighted'), 3))\n",
        "#\n",
        "#F1 Score\n",
        "print(\"F1 Score : \", round(100 * f1_score(Y_test, Y_predGB, average='weighted'), 3))"
      ],
      "execution_count": null,
      "outputs": [
        {
          "output_type": "stream",
          "text": [
            "Accuracy :  86.41\n",
            "Precision :  81.26\n",
            "Recall :  86.41\n",
            "F1 Score :  83.663\n"
          ],
          "name": "stdout"
        }
      ]
    },
    {
      "cell_type": "code",
      "metadata": {
        "colab": {
          "base_uri": "https://localhost:8080/"
        },
        "id": "YF-VoDV7P14f",
        "outputId": "db5db1ef-8676-4109-b9f1-7aec24977616"
      },
      "source": [
        "# Summary\n",
        "print(classification_report(Y_test, Y_predGB))"
      ],
      "execution_count": null,
      "outputs": [
        {
          "output_type": "stream",
          "text": [
            "              precision    recall  f1-score   support\n",
            "\n",
            "       angry       0.64      0.47      0.55        19\n",
            "     disgust       0.00      0.00      0.00         7\n",
            "       happy       0.90      0.96      0.93       340\n",
            "         sad       0.00      0.00      0.00        11\n",
            "    surprise       0.00      0.00      0.00        13\n",
            "\n",
            "    accuracy                           0.86       390\n",
            "   macro avg       0.31      0.29      0.29       390\n",
            "weighted avg       0.81      0.86      0.84       390\n",
            "\n"
          ],
          "name": "stdout"
        }
      ]
    },
    {
      "cell_type": "markdown",
      "metadata": {
        "id": "QyUbfqWj7Thr"
      },
      "source": [
        "### **TRAINING THE MODEL w.r.t. TFIDF**"
      ]
    },
    {
      "cell_type": "code",
      "metadata": {
        "id": "2CUKKrNSP__K"
      },
      "source": [
        "GBClassifier2 = GradientBoostingClassifier(max_depth=2,\n",
        "    n_estimators=3,\n",
        "    learning_rate=1.0\n",
        ")"
      ],
      "execution_count": null,
      "outputs": []
    },
    {
      "cell_type": "code",
      "metadata": {
        "colab": {
          "base_uri": "https://localhost:8080/"
        },
        "id": "QW5JAZ1cQAHz",
        "outputId": "499ea8b9-1a34-411f-c1d3-21eb0da76e99"
      },
      "source": [
        "GBClassifier2.fit(x_train, y_train.values.ravel())\n",
        "GBClassifier2"
      ],
      "execution_count": null,
      "outputs": [
        {
          "output_type": "execute_result",
          "data": {
            "text/plain": [
              "GradientBoostingClassifier(ccp_alpha=0.0, criterion='friedman_mse', init=None,\n",
              "                           learning_rate=1.0, loss='deviance', max_depth=2,\n",
              "                           max_features=None, max_leaf_nodes=None,\n",
              "                           min_impurity_decrease=0.0, min_impurity_split=None,\n",
              "                           min_samples_leaf=1, min_samples_split=2,\n",
              "                           min_weight_fraction_leaf=0.0, n_estimators=3,\n",
              "                           n_iter_no_change=None, presort='deprecated',\n",
              "                           random_state=None, subsample=1.0, tol=0.0001,\n",
              "                           validation_fraction=0.1, verbose=0,\n",
              "                           warm_start=False)"
            ]
          },
          "metadata": {
            "tags": []
          },
          "execution_count": 114
        }
      ]
    },
    {
      "cell_type": "markdown",
      "metadata": {
        "id": "6vR8U1id7Ths"
      },
      "source": [
        "### **TESTING THE MODEL w.r.t. TFIDF**"
      ]
    },
    {
      "cell_type": "code",
      "metadata": {
        "colab": {
          "base_uri": "https://localhost:8080/"
        },
        "id": "dtuD8bb4QG2a",
        "outputId": "af42c51b-dbbc-45b4-e0d9-2b5f10e97eae"
      },
      "source": [
        "y_predGB2 = GBClassifier2.predict(x_test)\n",
        "len(y_predGB2)"
      ],
      "execution_count": null,
      "outputs": [
        {
          "output_type": "execute_result",
          "data": {
            "text/plain": [
              "390"
            ]
          },
          "metadata": {
            "tags": []
          },
          "execution_count": 115
        }
      ]
    },
    {
      "cell_type": "code",
      "metadata": {
        "colab": {
          "base_uri": "https://localhost:8080/",
          "height": 204
        },
        "id": "S5e8PJmFQHMD",
        "outputId": "316d36fb-2646-468e-fb28-297d8497182e"
      },
      "source": [
        "predGB2 = pd.DataFrame({'Actual' : y_test.values.ravel(), 'Predicted' : y_predGB2})\n",
        "predGB2.head()"
      ],
      "execution_count": null,
      "outputs": [
        {
          "output_type": "execute_result",
          "data": {
            "text/html": [
              "<div>\n",
              "<style scoped>\n",
              "    .dataframe tbody tr th:only-of-type {\n",
              "        vertical-align: middle;\n",
              "    }\n",
              "\n",
              "    .dataframe tbody tr th {\n",
              "        vertical-align: top;\n",
              "    }\n",
              "\n",
              "    .dataframe thead th {\n",
              "        text-align: right;\n",
              "    }\n",
              "</style>\n",
              "<table border=\"1\" class=\"dataframe\">\n",
              "  <thead>\n",
              "    <tr style=\"text-align: right;\">\n",
              "      <th></th>\n",
              "      <th>Actual</th>\n",
              "      <th>Predicted</th>\n",
              "    </tr>\n",
              "  </thead>\n",
              "  <tbody>\n",
              "    <tr>\n",
              "      <th>0</th>\n",
              "      <td>happy</td>\n",
              "      <td>happy</td>\n",
              "    </tr>\n",
              "    <tr>\n",
              "      <th>1</th>\n",
              "      <td>surprise</td>\n",
              "      <td>happy</td>\n",
              "    </tr>\n",
              "    <tr>\n",
              "      <th>2</th>\n",
              "      <td>happy</td>\n",
              "      <td>happy</td>\n",
              "    </tr>\n",
              "    <tr>\n",
              "      <th>3</th>\n",
              "      <td>happy</td>\n",
              "      <td>happy</td>\n",
              "    </tr>\n",
              "    <tr>\n",
              "      <th>4</th>\n",
              "      <td>happy</td>\n",
              "      <td>happy</td>\n",
              "    </tr>\n",
              "  </tbody>\n",
              "</table>\n",
              "</div>"
            ],
            "text/plain": [
              "     Actual Predicted\n",
              "0     happy     happy\n",
              "1  surprise     happy\n",
              "2     happy     happy\n",
              "3     happy     happy\n",
              "4     happy     happy"
            ]
          },
          "metadata": {
            "tags": []
          },
          "execution_count": 116
        }
      ]
    },
    {
      "cell_type": "markdown",
      "metadata": {
        "id": "RWMLkvPRQYGc"
      },
      "source": [
        "### **ANALYSIS OF TEST RESULTS**"
      ]
    },
    {
      "cell_type": "code",
      "metadata": {
        "colab": {
          "base_uri": "https://localhost:8080/"
        },
        "id": "VYwpOyy0QHVW",
        "outputId": "d6d80f8a-66f9-4b46-bee6-0e6593254be7"
      },
      "source": [
        "# count the number of mismatches\n",
        "count = 0\n",
        "for i in range(0, len(predGB2)):\n",
        "    if y_predGB2[i] != y_test.values.ravel()[i]:\n",
        "        count = count + 1\n",
        "print(\"Count of Wrong Prediction : \" ,count)"
      ],
      "execution_count": null,
      "outputs": [
        {
          "output_type": "stream",
          "text": [
            "Count of Wrong Prediction :  43\n"
          ],
          "name": "stdout"
        }
      ]
    },
    {
      "cell_type": "code",
      "metadata": {
        "colab": {
          "base_uri": "https://localhost:8080/",
          "height": 296
        },
        "id": "5quem759QZ6d",
        "outputId": "95d8c784-5a4e-4b48-942b-baef6125be5b"
      },
      "source": [
        "# Confusion Matrix\n",
        "plot_confusion_matrix(GBClassifier2, x_test, y_test, cmap=plt.cm.Blues)"
      ],
      "execution_count": null,
      "outputs": [
        {
          "output_type": "execute_result",
          "data": {
            "text/plain": [
              "<sklearn.metrics._plot.confusion_matrix.ConfusionMatrixDisplay at 0x7f63cbfe5950>"
            ]
          },
          "metadata": {
            "tags": []
          },
          "execution_count": 118
        },
        {
          "output_type": "display_data",
          "data": {
            "image/png": "[encoded data removed]",
            "text/plain": [
              "<Figure size 432x288 with 2 Axes>"
            ]
          },
          "metadata": {
            "tags": [],
            "needs_background": "light"
          }
        }
      ]
    },
    {
      "cell_type": "code",
      "metadata": {
        "colab": {
          "base_uri": "https://localhost:8080/"
        },
        "id": "XxCJJ7JQQZ_X",
        "outputId": "bf265832-0625-42b6-e8ae-05b7fec4122e"
      },
      "source": [
        "# Accuracy\n",
        "print(\"Accuracy : \", round(100 * accuracy_score(y_test, y_predGB2), 3))\n",
        "#\n",
        "# Precision\n",
        "print(\"Precision : \", round(100 * precision_score(y_test, y_predGB2, average='weighted'), 3))\n",
        "#\n",
        "# Recall\n",
        "print(\"Recall : \", round(100 * recall_score(y_test, y_predGB2, average='weighted'), 3))\n",
        "#\n",
        "#F1 Score\n",
        "print(\"F1 Score : \", round(100 * f1_score(y_test, y_predGB2, average='weighted'), 3))"
      ],
      "execution_count": null,
      "outputs": [
        {
          "output_type": "stream",
          "text": [
            "Accuracy :  88.974\n",
            "Precision :  83.644\n",
            "Recall :  88.974\n",
            "F1 Score :  85.525\n"
          ],
          "name": "stdout"
        }
      ]
    },
    {
      "cell_type": "code",
      "metadata": {
        "colab": {
          "base_uri": "https://localhost:8080/"
        },
        "id": "jH93N7KYQaQL",
        "outputId": "60aab1e5-8e3f-426d-f880-5c6cef8a2bfb"
      },
      "source": [
        "# Summary\n",
        "print(classification_report(y_test, y_predGB2))"
      ],
      "execution_count": null,
      "outputs": [
        {
          "output_type": "stream",
          "text": [
            "              precision    recall  f1-score   support\n",
            "\n",
            "       angry       0.75      0.23      0.35        13\n",
            "     disgust       0.00      0.00      0.00         4\n",
            "       happy       0.90      0.99      0.94       347\n",
            "         sad       0.25      0.08      0.12        13\n",
            "    surprise       0.00      0.00      0.00        13\n",
            "\n",
            "    accuracy                           0.89       390\n",
            "   macro avg       0.38      0.26      0.28       390\n",
            "weighted avg       0.84      0.89      0.86       390\n",
            "\n"
          ],
          "name": "stdout"
        }
      ]
    },
    {
      "cell_type": "code",
      "metadata": {
        "id": "TYBuvl6BQqKH"
      },
      "source": [
        ""
      ],
      "execution_count": null,
      "outputs": []
    }
  ]
}